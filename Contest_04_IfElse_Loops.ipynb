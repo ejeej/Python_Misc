{
 "cells": [
  {
   "cell_type": "markdown",
   "metadata": {},
   "source": [
    "https://official.contest.yandex.ru/contest/20632/problems/"
   ]
  },
  {
   "cell_type": "markdown",
   "metadata": {},
   "source": [
    "## **A. Ряд 1**"
   ]
  },
  {
   "cell_type": "markdown",
   "metadata": {},
   "source": [
    "Даны два целых числа A и B (при этом A≤B). Выведите все числа от A до B включительно.\\\n",
    "*Формат ввода*\\\n",
    "Вводятся два целых числа.\\\n",
    "*Формат вывода*\\\n",
    "Выведите ответ на задачу. "
   ]
  },
  {
   "cell_type": "code",
   "execution_count": 8,
   "metadata": {},
   "outputs": [
    {
     "name": "stdin",
     "output_type": "stream",
     "text": [
      " -3\n",
      " 14\n"
     ]
    },
    {
     "name": "stdout",
     "output_type": "stream",
     "text": [
      "-3 -2 -1 0 1 2 3 4 5 6 7 8 9 10 11 12 13 14\n"
     ]
    }
   ],
   "source": [
    "a = int(input())\n",
    "b = int(input())\n",
    "lst = list(range(a, b + 1))\n",
    "print(*lst)"
   ]
  },
  {
   "cell_type": "markdown",
   "metadata": {},
   "source": [
    "## **B. Ряд 2**"
   ]
  },
  {
   "cell_type": "markdown",
   "metadata": {},
   "source": [
    "Даны два целых числа A и В. Выведите все числа от A до B включительно, в порядке возрастания, если A < B, или в порядке убывания в противном случае.\\\n",
    "*Формат ввода*\\\n",
    "Вводятся два целых числа.\\\n",
    "*Формат вывода*\\\n",
    "Выведите ответ на задачу. "
   ]
  },
  {
   "cell_type": "code",
   "execution_count": 14,
   "metadata": {},
   "outputs": [
    {
     "name": "stdin",
     "output_type": "stream",
     "text": [
      " 5\n",
      " 2\n"
     ]
    },
    {
     "name": "stdout",
     "output_type": "stream",
     "text": [
      "5 4 3 2\n"
     ]
    }
   ],
   "source": [
    "a = int(input())\n",
    "b = int(input())\n",
    "if a <= b:\n",
    "    lst = list(range(a, b + 1))\n",
    "else:\n",
    "    lst = list(range(a, b - 1, -1))\n",
    "print(*lst)"
   ]
  },
  {
   "cell_type": "markdown",
   "metadata": {},
   "source": [
    "## **C. Ряд 3**"
   ]
  },
  {
   "cell_type": "markdown",
   "metadata": {},
   "source": [
    "Дано натуральное число n. Напечатайте все n-значные нечетные натуральные числа в порядке убывания.\\\n",
    "*Формат ввода*\\\n",
    "Вводится натуральное число.\\\n",
    "*Формат вывода*\\\n",
    "Выведите ответ на задачу. "
   ]
  },
  {
   "cell_type": "code",
   "execution_count": 20,
   "metadata": {},
   "outputs": [
    {
     "name": "stdin",
     "output_type": "stream",
     "text": [
      " 3\n"
     ]
    },
    {
     "name": "stdout",
     "output_type": "stream",
     "text": [
      "999 997 995 993 991 989 987 985 983 981 979 977 975 973 971 969 967 965 963 961 959 957 955 953 951 949 947 945 943 941 939 937 935 933 931 929 927 925 923 921 919 917 915 913 911 909 907 905 903 901 899 897 895 893 891 889 887 885 883 881 879 877 875 873 871 869 867 865 863 861 859 857 855 853 851 849 847 845 843 841 839 837 835 833 831 829 827 825 823 821 819 817 815 813 811 809 807 805 803 801 799 797 795 793 791 789 787 785 783 781 779 777 775 773 771 769 767 765 763 761 759 757 755 753 751 749 747 745 743 741 739 737 735 733 731 729 727 725 723 721 719 717 715 713 711 709 707 705 703 701 699 697 695 693 691 689 687 685 683 681 679 677 675 673 671 669 667 665 663 661 659 657 655 653 651 649 647 645 643 641 639 637 635 633 631 629 627 625 623 621 619 617 615 613 611 609 607 605 603 601 599 597 595 593 591 589 587 585 583 581 579 577 575 573 571 569 567 565 563 561 559 557 555 553 551 549 547 545 543 541 539 537 535 533 531 529 527 525 523 521 519 517 515 513 511 509 507 505 503 501 499 497 495 493 491 489 487 485 483 481 479 477 475 473 471 469 467 465 463 461 459 457 455 453 451 449 447 445 443 441 439 437 435 433 431 429 427 425 423 421 419 417 415 413 411 409 407 405 403 401 399 397 395 393 391 389 387 385 383 381 379 377 375 373 371 369 367 365 363 361 359 357 355 353 351 349 347 345 343 341 339 337 335 333 331 329 327 325 323 321 319 317 315 313 311 309 307 305 303 301 299 297 295 293 291 289 287 285 283 281 279 277 275 273 271 269 267 265 263 261 259 257 255 253 251 249 247 245 243 241 239 237 235 233 231 229 227 225 223 221 219 217 215 213 211 209 207 205 203 201 199 197 195 193 191 189 187 185 183 181 179 177 175 173 171 169 167 165 163 161 159 157 155 153 151 149 147 145 143 141 139 137 135 133 131 129 127 125 123 121 119 117 115 113 111 109 107 105 103 101\n"
     ]
    }
   ],
   "source": [
    "num = int(input())\n",
    "lst = list(range(10 ** num - 1, 10 ** (num - 1) - 1, -2))\n",
    "print(*lst)"
   ]
  },
  {
   "cell_type": "markdown",
   "metadata": {},
   "source": [
    "## **D. Сумма квадратов**"
   ]
  },
  {
   "cell_type": "markdown",
   "metadata": {},
   "source": [
    "По данному натуральном n вычислите сумму $1^2+2^2+3^2+...+n^2$.\\\n",
    "*Формат ввода*\\\n",
    "Вводится натуральное число.\\\n",
    "*Формат вывода*\\\n",
    "Выведите ответ на задачу. "
   ]
  },
  {
   "cell_type": "code",
   "execution_count": 24,
   "metadata": {},
   "outputs": [
    {
     "name": "stdin",
     "output_type": "stream",
     "text": [
      " 3\n"
     ]
    },
    {
     "name": "stdout",
     "output_type": "stream",
     "text": [
      "14\n"
     ]
    }
   ],
   "source": [
    "num = int(input())\n",
    "i = 0\n",
    "res = 0\n",
    "while i <= num:\n",
    "    res += i ** 2\n",
    "    i += 1\n",
    "print(res)"
   ]
  },
  {
   "cell_type": "markdown",
   "metadata": {},
   "source": [
    "## **E. Флаги**"
   ]
  },
  {
   "cell_type": "markdown",
   "metadata": {},
   "source": [
    "Напишите программу, которая по данному числу n от 1 до 9 выводит на экран n флагов. Изображение одного флага имеет размер 4×4 символов, между двумя соседними флагами также имеется пустой (из пробелов) столбец. Разрешается вывести пустой столбец после последнего флага. Внутри каждого флага должен быть записан его номер — число от 1 до n.\n",
    "*Формат ввода*\\\n",
    "Вводится натуральное число.\\\n",
    "*Формат вывода*\\\n",
    "Выведите ответ на задачу. "
   ]
  },
  {
   "cell_type": "code",
   "execution_count": 31,
   "metadata": {},
   "outputs": [
    {
     "name": "stdin",
     "output_type": "stream",
     "text": [
      " 4\n"
     ]
    },
    {
     "name": "stdout",
     "output_type": "stream",
     "text": [
      "+___ +___ +___ +___ \n",
      "|1 / |2 / |3 / |4 / \n",
      "|__\\ |__\\ |__\\ |__\\ \n",
      "|    |    |    |    \n"
     ]
    }
   ],
   "source": [
    "num = int(input())\n",
    "str1 = ''\n",
    "str2 = ''\n",
    "str3 = ''\n",
    "str4 = ''\n",
    "for i in range(1, num + 1):\n",
    "    str1 += '+___ '\n",
    "    str2 += '|' + str(i) + ' / '\n",
    "    str3 += '|__\\ '\n",
    "    str4 += '|    '\n",
    "print(str1, str2, str3, str4, sep = '\\n')"
   ]
  },
  {
   "cell_type": "markdown",
   "metadata": {},
   "source": [
    "## **F. Количество нулей**"
   ]
  },
  {
   "cell_type": "markdown",
   "metadata": {},
   "source": [
    "Дано несколько чисел. Подсчитайте, сколько из них равны нулю, и выведите это количество.\\\n",
    "*Формат ввода*\\\n",
    "Cначала вводится число N, затем вводится ровно N целых чисел.\\\n",
    "*Формат вывода*\\\n",
    "Выведите ответ на задачу. "
   ]
  },
  {
   "cell_type": "code",
   "execution_count": 35,
   "metadata": {},
   "outputs": [
    {
     "name": "stdin",
     "output_type": "stream",
     "text": [
      " 5\n",
      " 0\n",
      " 7\n",
      " 0\n",
      " 22\n",
      " 22\n"
     ]
    },
    {
     "name": "stdout",
     "output_type": "stream",
     "text": [
      "2\n"
     ]
    }
   ],
   "source": [
    "num = int(input())\n",
    "zeros = 0\n",
    "for _ in range(1, num + 1):\n",
    "    nn = int(input())\n",
    "    if nn == 0:\n",
    "        zeros += 1\n",
    "print(zeros)"
   ]
  },
  {
   "cell_type": "markdown",
   "metadata": {},
   "source": [
    "## **G. Диофантово уравнение - 2**"
   ]
  },
  {
   "cell_type": "markdown",
   "metadata": {},
   "source": [
    "Даны числа a, b, c, d, e. Подсчитайте количество таких целых чисел от 0 до 1000, которые являются корнями уравнения $(ax^3+bx^2+cx+d)/(x-e)=0$, и выведите их количество.\\\n",
    "*Формат ввода*\\\n",
    "Вводятся целые числа a, b, c, d и e.\\\n",
    "*Формат вывода*\\\n",
    "Выведите ответ на задачу. "
   ]
  },
  {
   "cell_type": "code",
   "execution_count": 45,
   "metadata": {},
   "outputs": [
    {
     "name": "stdin",
     "output_type": "stream",
     "text": [
      " 2\n",
      " 4\n",
      " 9\n",
      " 1\n",
      " 5\n"
     ]
    },
    {
     "name": "stdout",
     "output_type": "stream",
     "text": [
      "0\n"
     ]
    }
   ],
   "source": [
    "a = int(input())\n",
    "b = int(input())\n",
    "c = int(input())\n",
    "d = int(input())\n",
    "e = int(input())\n",
    "num = 0\n",
    "for i in range(1001):\n",
    "    if i != e:\n",
    "        if (a * i ** 3 + b * i ** 2 + c * i + d)/(i - e) == 0:\n",
    "            num += 1\n",
    "print(num)"
   ]
  },
  {
   "cell_type": "markdown",
   "metadata": {},
   "source": [
    "## **H. Лесенка**"
   ]
  },
  {
   "cell_type": "markdown",
   "metadata": {},
   "source": [
    "По данному натуральному n≤9 выведите лесенку из n ступенек, i-я ступенька состоит из чисел от 1 до i без пробелов.\\\n",
    "*Формат ввода*\\\n",
    "Вводится натуральное число.\\\n",
    "*Формат вывода*\\\n",
    "Выведите ответ на задачу. "
   ]
  },
  {
   "cell_type": "code",
   "execution_count": 40,
   "metadata": {},
   "outputs": [
    {
     "name": "stdin",
     "output_type": "stream",
     "text": [
      " 5\n"
     ]
    },
    {
     "name": "stdout",
     "output_type": "stream",
     "text": [
      "1\n",
      "12\n",
      "123\n",
      "1234\n",
      "12345\n"
     ]
    }
   ],
   "source": [
    "num = int(input())\n",
    "i = 1\n",
    "while i <= num:\n",
    "    lst = list(map(str, range(1, i + 1)))\n",
    "    print(''.join(lst))\n",
    "    i += 1"
   ]
  },
  {
   "cell_type": "markdown",
   "metadata": {},
   "source": [
    "## **I. Замечательные числа - 1**"
   ]
  },
  {
   "cell_type": "markdown",
   "metadata": {},
   "source": [
    "Найдите и выведите все двузначные числа, которые равны удвоенному произведению своих цифр.\\\n",
    "*Формат ввода*\\\n",
    "Программа не требует ввода данных с клавиатуры, просто выводит список искомых чисел.\\\n",
    "*Формат вывода*\\\n",
    "Выведите ответ на задачу. "
   ]
  },
  {
   "cell_type": "code",
   "execution_count": 41,
   "metadata": {},
   "outputs": [
    {
     "name": "stdout",
     "output_type": "stream",
     "text": [
      "36 "
     ]
    }
   ],
   "source": [
    "for i in range(1, 10):\n",
    "    for j in range(10):\n",
    "        if i*10 + j == 2 * i * j:\n",
    "            print(i*10 + j, end = \" \")"
   ]
  },
  {
   "cell_type": "markdown",
   "metadata": {},
   "source": [
    "## **J. Замечательные числа - 4**"
   ]
  },
  {
   "cell_type": "markdown",
   "metadata": {},
   "source": [
    "Даны два четырёхзначных числа A и B. Выведите все четырёхзначные числа на отрезке от A до B, запись которых является палиндромом.\\\n",
    "*Формат ввода*\\\n",
    "Вводятся два целых числа A и B.\\\n",
    "*Формат вывода*\\\n",
    "Выведите ответ на задачу. "
   ]
  },
  {
   "cell_type": "code",
   "execution_count": 57,
   "metadata": {},
   "outputs": [
    {
     "name": "stdin",
     "output_type": "stream",
     "text": [
      " 7337\n",
      " 7447\n"
     ]
    },
    {
     "name": "stdout",
     "output_type": "stream",
     "text": [
      "7337\n",
      "7447\n"
     ]
    }
   ],
   "source": [
    "a = int(input())\n",
    "b = int(input())\n",
    "if b < a:\n",
    "    (a, b) = (b, a)\n",
    "for i in range(a, b + 1):\n",
    "    stri = str(i)\n",
    "    if stri[0:2] == stri[3:1:-1]:\n",
    "        print(stri)"
   ]
  },
  {
   "cell_type": "markdown",
   "metadata": {},
   "source": [
    "## **K. Сумма факториалов**"
   ]
  },
  {
   "cell_type": "markdown",
   "metadata": {},
   "source": [
    "По данному натуральном n вычислите сумму 1! + 2! +... +n!. В решении этой задачи можно использовать только один цикл.\n",
    "Формат ввода*\\\n",
    "Вводится натуральное число n.\\\n",
    "Формат вывода*\\\n",
    "Выведите ответ на задачу. "
   ]
  },
  {
   "cell_type": "code",
   "execution_count": 62,
   "metadata": {},
   "outputs": [
    {
     "name": "stdin",
     "output_type": "stream",
     "text": [
      " 0\n"
     ]
    },
    {
     "name": "stdout",
     "output_type": "stream",
     "text": [
      "0\n"
     ]
    }
   ],
   "source": [
    "num = int(input())\n",
    "i = 1\n",
    "prod = 1\n",
    "res = 0\n",
    "while i <= num:\n",
    "    prod *= i \n",
    "    res += prod\n",
    "    i += 1\n",
    "print(res)"
   ]
  },
  {
   "cell_type": "markdown",
   "metadata": {},
   "source": [
    "## **L. Потерянная карточка**"
   ]
  },
  {
   "cell_type": "markdown",
   "metadata": {},
   "source": [
    "Для настольной игры используются карточки с номерами от 1 до N. Одна карточка потерялась. Найдите ее, зная номера оставшихся карточек.\n",
    "*Формат ввода*\\\n",
    "Дано число N, далее N-1 номер оставшихся карточек (различные числа от 1 до N).\\\n",
    "*Формат вывода*\\\n",
    "Программа должна вывести номер потерянной карточки."
   ]
  },
  {
   "cell_type": "code",
   "execution_count": 70,
   "metadata": {},
   "outputs": [
    {
     "name": "stdin",
     "output_type": "stream",
     "text": [
      " 3\n",
      " 1\n",
      " 2\n"
     ]
    },
    {
     "name": "stdout",
     "output_type": "stream",
     "text": [
      "3\n"
     ]
    }
   ],
   "source": [
    "num = int(input())\n",
    "left = []\n",
    "for _ in range(num - 1):\n",
    "    left.append(int(input()))\n",
    "for card in range(1, num + 1):\n",
    "    if left.count(card) == 0:\n",
    "        print(card)\n",
    "        break"
   ]
  }
 ],
 "metadata": {
  "kernelspec": {
   "display_name": "Python 3 (ipykernel)",
   "language": "python",
   "name": "python3"
  },
  "language_info": {
   "codemirror_mode": {
    "name": "ipython",
    "version": 3
   },
   "file_extension": ".py",
   "mimetype": "text/x-python",
   "name": "python",
   "nbconvert_exporter": "python",
   "pygments_lexer": "ipython3",
   "version": "3.10.1"
  }
 },
 "nbformat": 4,
 "nbformat_minor": 4
}
