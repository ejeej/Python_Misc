{
 "cells": [
  {
   "cell_type": "markdown",
   "metadata": {},
   "source": [
    "https://official.contest.yandex.ru/contest/20310/problems/"
   ]
  },
  {
   "cell_type": "markdown",
   "metadata": {},
   "source": [
    "## **A. Максимум из двух**"
   ]
  },
  {
   "cell_type": "markdown",
   "metadata": {},
   "source": [
    "Напишите программу, которая считывает два целых числа A и B и выводит наибольшее значение из них. Числа — целые от 1 до 1000.\\\n",
    "При решении задачи можно пользоваться только целочисленными арифметическими операциями. Нельзя пользоваться нелинейными конструкциями: ветвлениями, циклами, функциями.\\\n",
    "*Формат ввода*\\\n",
    "Вводятся два числа.\\\n",
    "*Формат вывода*\\\n",
    "Выведите ответ на задачу."
   ]
  },
  {
   "cell_type": "code",
   "execution_count": 2,
   "metadata": {},
   "outputs": [
    {
     "name": "stdin",
     "output_type": "stream",
     "text": [
      " 8\n",
      " 5\n"
     ]
    },
    {
     "name": "stdout",
     "output_type": "stream",
     "text": [
      "5\n"
     ]
    }
   ],
   "source": [
    "a = int(input())\n",
    "b = int(input())\n",
    "if a > b:\n",
    "    print(a)\n",
    "else:\n",
    "    print(b)"
   ]
  },
  {
   "cell_type": "markdown",
   "metadata": {},
   "source": [
    "## **B. Какое число больше**"
   ]
  },
  {
   "cell_type": "markdown",
   "metadata": {},
   "source": [
    "Даны два целых числа. Программа должна вывести число 1, если первое число больше второго, число 2, если второе больше первого или число 0, если они равны.\\\n",
    "*Формат ввода*\\\n",
    "Вводятся два целых числа.\\\n",
    "*Формат вывода*\\\n",
    "Выведите ответ на задачу."
   ]
  },
  {
   "cell_type": "code",
   "execution_count": null,
   "metadata": {},
   "outputs": [],
   "source": [
    "a = int(input())\n",
    "b = int(input())\n",
    "if a > b:\n",
    "    print(1)\n",
    "elif b > a:\n",
    "    print(2)\n",
    "else:\n",
    "\tprint(0)"
   ]
  },
  {
   "cell_type": "markdown",
   "metadata": {},
   "source": [
    "## **C. Знак числа**"
   ]
  },
  {
   "cell_type": "markdown",
   "metadata": {},
   "source": [
    "В математике функция sign(x) (знак числа) определена так:\\\n",
    "`sign(x) = 1, если x > 0,`\\\n",
    "`sign(x) = -1, если x < 0,`\\\n",
    "`sign(x) = 0, если x = 0.`\\\n",
    "Для данного числа x выведите значение sign(x).\\\n",
    "*Формат ввода*\\\n",
    "Вводится одно целое число.\\\n",
    "*Формат вывода*\\\n",
    "Выведите ответ на задачу."
   ]
  },
  {
   "cell_type": "code",
   "execution_count": 3,
   "metadata": {},
   "outputs": [
    {
     "name": "stdin",
     "output_type": "stream",
     "text": [
      " -3\n"
     ]
    },
    {
     "name": "stdout",
     "output_type": "stream",
     "text": [
      "-1\n"
     ]
    }
   ],
   "source": [
    "num = int(input())\n",
    "if num == 0:\n",
    "\tprint(0)\n",
    "elif num > 0:\n",
    "\tprint(1)\n",
    "else:\n",
    "\tprint(-1)"
   ]
  },
  {
   "cell_type": "markdown",
   "metadata": {},
   "source": [
    "## **D. Максимум трёх чисел**"
   ]
  },
  {
   "cell_type": "markdown",
   "metadata": {},
   "source": [
    "Даны три целых числа. Найдите наибольшее из них (программа должна вывести ровно одно целое число).\\\n",
    "Какое наименьшее число операторов сравнения (>, <, >=, <=) необходимо для решения этой задачи?\\\n",
    "*Формат ввода*\\\n",
    "Вводится три целых числа.\\\n",
    "*Формат вывода*\\\n",
    "Выведите ответ на задачу."
   ]
  },
  {
   "cell_type": "code",
   "execution_count": 6,
   "metadata": {},
   "outputs": [
    {
     "name": "stdin",
     "output_type": "stream",
     "text": [
      " 3\n",
      " 4\n",
      " 1\n"
     ]
    },
    {
     "name": "stdout",
     "output_type": "stream",
     "text": [
      "4\n"
     ]
    }
   ],
   "source": [
    "a = int(input())\n",
    "b = int(input())\n",
    "c = int(input())\n",
    "if a >= b:\n",
    "\tif a >= c:\n",
    "\t\tprint(a)\n",
    "\telse:\n",
    "\t\tprint(c)\n",
    "elif b >= c:\n",
    "\tprint(b)\n",
    "else:\n",
    "\tprint(c)"
   ]
  },
  {
   "cell_type": "markdown",
   "metadata": {},
   "source": [
    "## **E. Координатные четверти**"
   ]
  },
  {
   "cell_type": "markdown",
   "metadata": {},
   "source": [
    "Даны координаты двух точек на плоскости, требуется определить, лежат ли они в одной координатной четверти или нет (все координаты отличны от нуля).\\\n",
    "*Формат ввода*\\\n",
    "Вводятся 4 числа: координаты первой точки (x1, y1) и координаты второй точки (x2, y2).\\\n",
    "*Формат вывода*\\\n",
    "Программа должна вывести слово YES, если точки находятся в одной координатной четверти, в противном случае вывести слово NO."
   ]
  },
  {
   "cell_type": "code",
   "execution_count": 7,
   "metadata": {},
   "outputs": [
    {
     "name": "stdin",
     "output_type": "stream",
     "text": [
      " 3\n",
      " 3\n",
      " 5\n",
      " 1\n"
     ]
    },
    {
     "name": "stdout",
     "output_type": "stream",
     "text": [
      "YES\n"
     ]
    }
   ],
   "source": [
    "x1 = int(input())\n",
    "y1 = int(input())\n",
    "x2 = int(input())\n",
    "y2 = int(input())\n",
    "s1 = x1 > 0 and x2 > 0 and y1 > 0 and y2 > 0\n",
    "s2 = x1 > 0 and x2 > 0 and y1 < 0 and y2 < 0\n",
    "s3 = x1 < 0 and x2 < 0 and y1 < 0 and y2 < 0\n",
    "s4 = x1 < 0 and x2 < 0 and y1 > 0 and y2 > 0\n",
    "if s1 or s2 or s3 or s4:\n",
    "\tprint('YES')\n",
    "else:\n",
    "\tprint('NO')"
   ]
  },
  {
   "cell_type": "markdown",
   "metadata": {},
   "source": [
    "## **F. Високосный год**"
   ]
  },
  {
   "cell_type": "markdown",
   "metadata": {},
   "source": [
    "Дано натуральное число. Требуется определить, является ли год с данным номером високосным. Если год является високосным, то выведите YES, иначе выведите NO. Напомним, что в соответствии с григорианским календарем, год является високосным, если его номер кратен 4, но не кратен 100, а также если он кратен 400.\\\n",
    "*Формат ввода*\\\n",
    "Вводится одно натуральное число.\\\n",
    "*Формат вывода*\\\n",
    "Выведите ответ на задачу."
   ]
  },
  {
   "cell_type": "code",
   "execution_count": 10,
   "metadata": {},
   "outputs": [
    {
     "name": "stdin",
     "output_type": "stream",
     "text": [
      " 1300\n"
     ]
    },
    {
     "name": "stdout",
     "output_type": "stream",
     "text": [
      "NO\n"
     ]
    }
   ],
   "source": [
    "year = int(input())\n",
    "if (year % 4 == 0 and year % 100 != 0) or year % 400 == 0:\n",
    "\tprint('YES')\n",
    "else:\n",
    "\tprint('NO')"
   ]
  },
  {
   "cell_type": "markdown",
   "metadata": {},
   "source": [
    "## **G. Ход короля**"
   ]
  },
  {
   "cell_type": "markdown",
   "metadata": {},
   "source": [
    "Шахматный король ходит по горизонтали, вертикали и диагонали, но только на 1 клетку. Даны две различные клетки шахматной доски, определите, может ли король попасть с первой клетки на вторую одним ходом.\\\n",
    "*Формат ввода*\\\n",
    "Программа получает на вход четыре числа от 1 до 8 каждое, задающие номер столбца и номер строки сначала для первой клетки, потом для второй клетки.\\\n",
    "*Формат вывода*\\\n",
    "Программа должна вывести YES, если из первой клетки ходом короля можно попасть во вторую или NO в противном случае."
   ]
  },
  {
   "cell_type": "code",
   "execution_count": 14,
   "metadata": {},
   "outputs": [
    {
     "name": "stdin",
     "output_type": "stream",
     "text": [
      " 4\n",
      " 5\n",
      " 3\n",
      " 6\n"
     ]
    },
    {
     "name": "stdout",
     "output_type": "stream",
     "text": [
      "YES\n"
     ]
    }
   ],
   "source": [
    "x1 = int(input())\n",
    "y1 = int(input())\n",
    "x2 = int(input())\n",
    "y2 = int(input())\n",
    "ydiff = y1 - y2\n",
    "xdiff = x1 - x2\n",
    "vert = (ydiff == 1 or ydiff == -1) and xdiff == 0\n",
    "hor = (xdiff == 1 or xdiff == -1) and ydiff == 0\n",
    "diag = (ydiff == 1 and xdiff == 1) or (ydiff == -1 and xdiff == -1) or (ydiff == -1 and xdiff == 1) or (ydiff == 1 and xdiff == -1)\n",
    "if vert or hor or diag:\n",
    "\tprint('YES')\n",
    "else:\n",
    "\tprint('NO')"
   ]
  },
  {
   "cell_type": "markdown",
   "metadata": {},
   "source": [
    "## **H. Четные и нечетные**"
   ]
  },
  {
   "cell_type": "markdown",
   "metadata": {},
   "source": [
    "Даны три целых числа A, B, C. Определить, есть ли среди них хотя бы одно четное и хотя бы одно нечетное.\\\n",
    "*Формат ввода*\\\n",
    "Числа A, B, C, не превышающие по модулю 10000.\\\n",
    "*Формат вывода*\\\n",
    "Одна строка – \"YES\" или \"NO\"."
   ]
  },
  {
   "cell_type": "code",
   "execution_count": 17,
   "metadata": {},
   "outputs": [
    {
     "name": "stdin",
     "output_type": "stream",
     "text": [
      " 2\n",
      " 3\n",
      " 4\n"
     ]
    },
    {
     "name": "stdout",
     "output_type": "stream",
     "text": [
      "YES\n"
     ]
    }
   ],
   "source": [
    "a = int(input())\n",
    "b = int(input())\n",
    "c = int(input())\n",
    "ressum = a % 2 + b % 2 + c % 2\n",
    "if 0 < ressum < 3:\n",
    "\tprint('YES')\n",
    "else:\n",
    "\tprint('NO')"
   ]
  },
  {
   "cell_type": "markdown",
   "metadata": {},
   "source": [
    "## **I. Квартиры**"
   ]
  },
  {
   "cell_type": "markdown",
   "metadata": {},
   "source": [
    "В доме несколько подъездов. В каждом подъезде одинаковое количество квартир. Квартиры нумеруются подряд, начиная с единицы. Может ли в некотором подъезде первая квартира иметь номер x, а последняя – номер y?\\\n",
    "*Формат ввода*\\\n",
    "Вводятся два натуральных числа x и y (), не превышающие 10 000.\\\n",
    "*Формат вывода*\\\n",
    "Выведите слово YES (заглавными латинскими буквами), если такое возможно, и NO в противном случае."
   ]
  },
  {
   "cell_type": "code",
   "execution_count": 37,
   "metadata": {},
   "outputs": [
    {
     "name": "stdin",
     "output_type": "stream",
     "text": [
      " 2\n",
      " 10\n"
     ]
    },
    {
     "name": "stdout",
     "output_type": "stream",
     "text": [
      "NO\n"
     ]
    }
   ],
   "source": [
    "kv1 = int(input())\n",
    "kv2 = int(input())\n",
    "kv_prev = kv1 - 1\n",
    "kv_this = kv2 - kv1 + 1\n",
    "if kv_prev % kv_this == 0:\n",
    "\tprint('YES')\n",
    "else:\n",
    "\tprint('NO')"
   ]
  },
  {
   "cell_type": "markdown",
   "metadata": {},
   "source": [
    "## **J. Цвет клеток шахматной доски**"
   ]
  },
  {
   "cell_type": "markdown",
   "metadata": {},
   "source": [
    "Заданы две клетки шахматной доски. Если они покрашены в один цвет, то выведите слово YES, а если в разные цвета – то NO.\\\n",
    "*Формат ввода*\\\n",
    "Вводятся 4 числа - координаты клеток.\\\n",
    "*Формат вывода*\\\n",
    "Выведите ответ на задачу."
   ]
  },
  {
   "cell_type": "code",
   "execution_count": 24,
   "metadata": {},
   "outputs": [
    {
     "name": "stdin",
     "output_type": "stream",
     "text": [
      " 1\n",
      " 1\n",
      " 2\n",
      " 3\n"
     ]
    },
    {
     "name": "stdout",
     "output_type": "stream",
     "text": [
      "NO\n"
     ]
    }
   ],
   "source": [
    "x1 = int(input())\n",
    "y1 = int(input())\n",
    "x2 = int(input())\n",
    "y2 = int(input())\n",
    "black1 = (x1 % 2 == 0 and y1 % 2 == 0) or (x1 % 2 != 0 and y1 % 2 != 0)\n",
    "black2 = (x2 % 2 == 0 and y2 % 2 == 0) or (x2 % 2 != 0 and y2 % 2 != 0)\n",
    "if (black1 and black2) or (not black1 and not black2):\n",
    "\tprint('YES')\n",
    "else:\n",
    "\tprint('NO')"
   ]
  },
  {
   "cell_type": "markdown",
   "metadata": {},
   "source": [
    "## **K. Шоколадка**"
   ]
  },
  {
   "cell_type": "markdown",
   "metadata": {},
   "source": [
    "Шоколадка имеет вид прямоугольника, разделенного на n × m долек. Шоколадку можно один раз разломить по прямой на две части. Определите, можно ли таким образом отломить от шоколадки ровно k долек.\\\n",
    "*Формат ввода*\\\n",
    "Программа получает на вход три числа: n, m, k\\\n",
    "*Формат вывода*\\\n",
    "Программа должна вывести одно из двух слов: YES или NO."
   ]
  },
  {
   "cell_type": "code",
   "execution_count": 9,
   "metadata": {},
   "outputs": [
    {
     "name": "stdin",
     "output_type": "stream",
     "text": [
      " 2\n",
      " 10\n",
      " 7\n"
     ]
    },
    {
     "name": "stdout",
     "output_type": "stream",
     "text": [
      "NO\n"
     ]
    }
   ],
   "source": [
    "n = int(input())\n",
    "m = int(input())\n",
    "k = int(input())\n",
    "if (k % n == 0 or k % m == 0) and k < n * m:\n",
    "    print('YES')\n",
    "else:\n",
    "    print('NO')"
   ]
  },
  {
   "cell_type": "markdown",
   "metadata": {},
   "source": [
    "## **L. Шашки**"
   ]
  },
  {
   "cell_type": "markdown",
   "metadata": {},
   "source": [
    "На доске стоит белая шашка. Требуется определить, может ли она попасть в заданную клетку, делая ходы по правилам (не превращаясь в дамку).\\\n",
    "*Формат ввода*\\\n",
    "Вводится клетка, где стоит шашка, а затем клетка, куда шашка должна попасть.\\\n",
    "Каждая клетка описывается номером столбца, а затем номером строки.\\\n",
    "*Формат вывода*\\\n",
    "Выведите слово YES (заглавными буквами), если шашка может попасть из начальной клетки в указанную, и NO в противном случае."
   ]
  },
  {
   "cell_type": "code",
   "execution_count": 7,
   "metadata": {},
   "outputs": [
    {
     "name": "stdin",
     "output_type": "stream",
     "text": [
      " 1\n",
      " 1\n",
      " 2\n",
      " 2\n"
     ]
    },
    {
     "name": "stdout",
     "output_type": "stream",
     "text": [
      "YES\n"
     ]
    }
   ],
   "source": [
    "x1 = int(input())\n",
    "y1 = int(input())\n",
    "x2 = int(input())\n",
    "y2 = int(input())\n",
    "black1 = (x1 % 2 == 0 and y1 % 2 == 0) or (x1 % 2 != 0 and y1 % 2 != 0)\n",
    "black2 = (x2 % 2 == 0 and y2 % 2 == 0) or (x2 % 2 != 0 and y2 % 2 != 0)\n",
    "a = y1 - x1\n",
    "b = y1 + x1\n",
    "if black1 and black2 and (y2 >= x2 + a) and (y2 >= -x2 + b):\n",
    "    print('YES')\n",
    "else:\n",
    "    print('NO')"
   ]
  },
  {
   "cell_type": "markdown",
   "metadata": {},
   "source": [
    "## **M. Упорядочить три числа**"
   ]
  },
  {
   "cell_type": "markdown",
   "metadata": {},
   "source": [
    "Дано три числа. Упорядочите их в порядке неубывания. Программа должна считывать три числа a, b, c, затем программа должна менять их значения так, чтобы стали выполнены условия , затем программа выводит тройку a, b, c.\\\n",
    "*Формат ввода*\\\n",
    "Вводятся три числа.\\\n",
    "*Формат вывода*\\\n",
    "Выведите ответ на задачу."
   ]
  },
  {
   "cell_type": "code",
   "execution_count": 74,
   "metadata": {},
   "outputs": [
    {
     "name": "stdin",
     "output_type": "stream",
     "text": [
      " 6\n",
      " 6\n",
      " 7\n"
     ]
    },
    {
     "name": "stdout",
     "output_type": "stream",
     "text": [
      "6 6 7\n"
     ]
    }
   ],
   "source": [
    "a = int(input())\n",
    "b = int(input())\n",
    "c = int(input())\n",
    "if a <= b:\n",
    "    if b <= c:\n",
    "        print(a, b, c)\n",
    "    elif a <= c:\n",
    "        print(a, c, b)\n",
    "    else:\n",
    "        print(c, a, b)\n",
    "elif b >= c:\n",
    "    print(c, b, a)\n",
    "elif a <= c:\n",
    "    print(b, a, c)\n",
    "else:\n",
    "    print(b, c, a)"
   ]
  },
  {
   "cell_type": "markdown",
   "metadata": {},
   "source": [
    "## **N. Сколько совпадает чисел**"
   ]
  },
  {
   "cell_type": "markdown",
   "metadata": {},
   "source": [
    "Даны три целых числа. Определите, сколько среди них совпадающих. Программа должна вывести одно из чисел: 3 (если все совпадают), 2 (если два совпадает) или 0 (если все числа различны).\\\n",
    "*Формат ввода*\\\n",
    "Вводятся три целых числа.\\\n",
    "*Формат вывода*\\\n",
    "Выведите ответ на задачу."
   ]
  },
  {
   "cell_type": "code",
   "execution_count": 35,
   "metadata": {},
   "outputs": [
    {
     "name": "stdin",
     "output_type": "stream",
     "text": [
      " 1\n",
      " 2\n",
      " 2\n"
     ]
    },
    {
     "name": "stdout",
     "output_type": "stream",
     "text": [
      "0\n"
     ]
    }
   ],
   "source": [
    "a = int(input())\n",
    "b = int(input())\n",
    "c = int(input())\n",
    "if a == b == c:\n",
    "\tprint(3)\n",
    "elif a == b or a == c or b == c:\n",
    "    print(2)\n",
    "else:\n",
    "    print(0)"
   ]
  },
  {
   "cell_type": "markdown",
   "metadata": {},
   "source": [
    "## **O. Тип треугольника**"
   ]
  },
  {
   "cell_type": "markdown",
   "metadata": {},
   "source": [
    "Даны три стороны треугольника a, b, c. Определите тип треугольника с заданными сторонами. Выведите одно из четырех слов: rectangular для прямоугольного треугольника, acute для остроугольного треугольника, obtuse для тупоугольного треугольника или impossible, если треугольника с такими сторонами не существует.\\\n",
    "*Формат ввода*\\\n",
    "Вводятся три целых числа.\\\n",
    "*Формат вывода*\\\n",
    "Выведите ответ на задачу."
   ]
  },
  {
   "cell_type": "code",
   "execution_count": 127,
   "metadata": {},
   "outputs": [
    {
     "name": "stdin",
     "output_type": "stream",
     "text": [
      " 2\n",
      " 3\n",
      " 4\n"
     ]
    },
    {
     "name": "stdout",
     "output_type": "stream",
     "text": [
      "obtuse\n"
     ]
    }
   ],
   "source": [
    "a = int(input())\n",
    "b = int(input())\n",
    "c = int(input())\n",
    "if (a >= b + c) or (b >= a + c) or (c >= a + b):\n",
    "    print('impossible')\n",
    "else:\n",
    "    sides = [a, b, c]\n",
    "    sides.sort()\n",
    "    if sides[2] ** 2 == sides[0] ** 2 + sides[1] ** 2:\n",
    "        print('rectangular')\n",
    "    elif sides[2] ** 2 < sides[0] ** 2 + sides[1] ** 2:\n",
    "        print('acute')\n",
    "    else:\n",
    "        print('obtuse')"
   ]
  },
  {
   "cell_type": "markdown",
   "metadata": {},
   "source": [
    "## **P. Узник замка Иф**"
   ]
  },
  {
   "cell_type": "markdown",
   "metadata": {},
   "source": [
    "За многие годы заточения узник замка Иф проделал в стене прямоугольное отверстие размером D × E. Замок Иф сложен из кирпичей, размером A × B × C. Определите, сможет ли узник выбрасывать кирпичи в море через это отверстие, если стороны кирпича должны быть параллельны сторонам отверстия.\\\n",
    "*Формат ввода*\\\n",
    "Программа получает на вход числа A, B, C, D, E.\\\n",
    "*Формат вывода*\\\n",
    "Программа должна вывести слово YES или NO."
   ]
  },
  {
   "cell_type": "code",
   "execution_count": 70,
   "metadata": {},
   "outputs": [
    {
     "name": "stdin",
     "output_type": "stream",
     "text": [
      " 5\n",
      " 3\n",
      " 4\n",
      " 4\n",
      " 3\n"
     ]
    },
    {
     "name": "stdout",
     "output_type": "stream",
     "text": [
      "YES\n"
     ]
    }
   ],
   "source": [
    "a = int(input())\n",
    "b = int(input())\n",
    "c = int(input())\n",
    "d = int(input())\n",
    "e = int(input())\n",
    "if a > d:\n",
    "    if a > e:\n",
    "        if (b <= d and c <= e) or (c <= d and b <= e):\n",
    "            print('YES')\n",
    "        else:\n",
    "            print('NO')\n",
    "    elif b <= d or c <= d:\n",
    "        print('YES')\n",
    "    else:\n",
    "        print('NO')\n",
    "elif b <= e or c <= e:\n",
    "    print('YES')\n",
    "else:\n",
    "\tprint('NO')"
   ]
  },
  {
   "cell_type": "markdown",
   "metadata": {},
   "source": [
    "## **Q. Коробки**"
   ]
  },
  {
   "cell_type": "markdown",
   "metadata": {},
   "source": [
    "Есть две коробки, первая размером A1 × B1 × C1, вторая размером A2 × B2 × C2. Определите, можно ли разместить одну из этих коробок внутри другой, при условии, что поворачивать коробки можно только на 90 градусов вокруг ребер.\\\n",
    "Формат ввода*\\\n",
    "Программа получает на вход числа A1, B1, C1, A2, B2, C2.\\\n",
    "Формат вывода*\\\n",
    "Программа должна вывести одну из следующих строчек:\\\n",
    "Boxes are equal, если коробки одинаковые,\\\n",
    "The first box is smaller than the second one, если первая коробка может быть положена во вторую,\\\n",
    "The first box is larger than the second one, если вторая коробка может быть положена в первую,\\\n",
    "Boxes are incomparable, во всех остальных случаях."
   ]
  },
  {
   "cell_type": "code",
   "execution_count": 86,
   "metadata": {},
   "outputs": [
    {
     "name": "stdin",
     "output_type": "stream",
     "text": [
      " 7\n",
      " 5\n",
      " 3\n",
      " 7\n",
      " 5\n",
      " 4\n"
     ]
    },
    {
     "name": "stdout",
     "output_type": "stream",
     "text": [
      "3 5 7\n",
      "4 5 7\n",
      "-1 0 0\n",
      "The first box is smaller than the second one\n"
     ]
    }
   ],
   "source": [
    "a1 = int(input())\n",
    "b1 = int(input())\n",
    "c1 = int(input())\n",
    "a2 = int(input())\n",
    "b2 = int(input())\n",
    "c2 = int(input())\n",
    "if a1 <= b1:\n",
    "    if b1 > c1:\n",
    "    \tif a1 <= c1:\n",
    "        \t(a1, b1, c1) = (a1, c1, b1)\n",
    "    \telse:\n",
    "        \t(a1, b1, c1) = (c1, a1, b1)\n",
    "elif b1 >= c1:\n",
    "    (a1, b1, c1) = (c1, b1, a1)\n",
    "elif a1 <= c1:\n",
    "    (a1, b1, c1) = (b1, a1, c1)\n",
    "else:\n",
    "    (a1, b1, c1) = (b1, c1, a1)\n",
    "\n",
    "if a2 <= b2:\n",
    "    if b2 > c2:\n",
    "    \tif a2 <= c2:\n",
    "        \t(a2, b2, c2) = (a2, c2, b2)\n",
    "    \telse:\n",
    "        \t(a2, b2, c2) = (c2, a2, b2)\n",
    "elif b2 >= c2:\n",
    "    (a2, b2, c2) = (c2, b2, a2)\n",
    "elif a2 <= c2:\n",
    "    (a2, b2, c2) = (b2, a2, c2)\n",
    "else:\n",
    "    (a2, b2, c2) = (b2, c2, a2)\n",
    "    \n",
    "print(a1, b1, c1)\n",
    "print(a2, b2, c2)\n",
    "print(a1 - a2, b1 - b2, c1 - c2)\n",
    "\n",
    "if a1 == a2 and b1 == b2 and c1 == c2:\n",
    "    print('Boxes are equal')\n",
    "elif a1 >= a2 and b1 >= b2 and c1 >= c2:\n",
    "    print('The first box is larger than the second one')\n",
    "elif a2 >= a1 and b2 >= b1 and c2 >= c1:\n",
    "    print('The first box is smaller than the second one')\n",
    "else:\n",
    "    print('Boxes are incomparable')"
   ]
  },
  {
   "cell_type": "markdown",
   "metadata": {},
   "source": [
    "## **R. Складирование ноутбуков**"
   ]
  },
  {
   "cell_type": "markdown",
   "metadata": {},
   "source": [
    "На склад, который имеет форму прямоугольного параллелепипеда, привезли ноутбуки, упакованные в коробки. Каждая коробка также имеет форму прямоугольного параллелепипеда. По правилам хранения коробки с ноутбуками должны быть размещены на складе с выполнением следующих двух условий:\\\n",
    "Стороны коробок должны быть параллельны сторонам склада.\\\n",
    "Коробку при помещении на склад разрешается расположить где угодно (с выполнением предыдущего условия), в том числе на другой коробке, но все коробки должны быть ориентированы одинаково (т.е. нельзя одну коробку расположить “стоя”, а другую —“лежа”)\\\n",
    "Напишите программу, которая по размерам склада и размерам коробки с ноутбуком определит максимальное количество ноутбуков, которое может быть размещено на складе.\\\n",
    "*Формат ввода*\\\n",
    "Программа получает на вход шесть натуральных чисел. Первые три задают длину, высоту и ширину склада. Следующие три задают соответственно длину, высоту и ширину коробки с ноутбуком.\\\n",
    "*Формат вывода*\\\n",
    "Программа должна вывести одно число — максимальное количество ноутбуков, которое может быть размещено на складе."
   ]
  },
  {
   "cell_type": "code",
   "execution_count": 121,
   "metadata": {},
   "outputs": [
    {
     "name": "stdin",
     "output_type": "stream",
     "text": [
      " 100\n",
      " 5\n",
      " 200\n",
      " 100\n",
      " 1\n",
      " 50\n"
     ]
    },
    {
     "name": "stdout",
     "output_type": "stream",
     "text": [
      "20\n"
     ]
    }
   ],
   "source": [
    "a1 = int(input())\n",
    "b1 = int(input())\n",
    "c1 = int(input())\n",
    "a2 = int(input())\n",
    "b2 = int(input())\n",
    "c2 = int(input())\n",
    "\n",
    "skld = [a1, b1, c1]\n",
    "skld.sort()\n",
    "\n",
    "ntbk = [a2, b2, c2]\n",
    "ntbk.sort()\n",
    "\n",
    "r1 = (skld[0] // ntbk[0]) * (skld[1] // ntbk[1]) * (skld[2] // ntbk[2])\n",
    "r2 = (skld[0] // ntbk[0]) * (skld[1] // ntbk[2]) * (skld[2] // ntbk[1])\n",
    "r3 = (skld[0] // ntbk[1]) * (skld[1] // ntbk[0]) * (skld[2] // ntbk[2])\n",
    "r4 = (skld[0] // ntbk[1]) * (skld[1] // ntbk[2]) * (skld[2] // ntbk[0])\n",
    "r5 = (skld[0] // ntbk[2]) * (skld[1] // ntbk[1]) * (skld[2] // ntbk[0])\n",
    "r6 = (skld[0] // ntbk[2]) * (skld[1] // ntbk[0]) * (skld[2] // ntbk[1])\n",
    "\n",
    "res = [r1, r2, r3, r4, r5, r6]\n",
    "res.sort()\n",
    "\n",
    "print(res[5])"
   ]
  },
  {
   "cell_type": "markdown",
   "metadata": {},
   "source": [
    "## **S. Коровы**"
   ]
  },
  {
   "cell_type": "markdown",
   "metadata": {},
   "source": [
    "Для данного числа n<100 закончите фразу “На лугу пасется...” одним из возможных продолжений: “n коров”, “n корова”, “n коровы”, правильно склоняя слово “корова”.\\\n",
    "*Формат ввода*\\\n",
    "Вводится натуральное число.\\\n",
    "*Формат вывода*\\\n",
    "Программа должна вывести введенное число n и одно из слов: korov, korova или korovy. Между числом и словом должен стоять ровно один пробел. "
   ]
  },
  {
   "cell_type": "code",
   "execution_count": 149,
   "metadata": {},
   "outputs": [
    {
     "name": "stdin",
     "output_type": "stream",
     "text": [
      " 3\n"
     ]
    },
    {
     "name": "stdout",
     "output_type": "stream",
     "text": [
      "3 korovy\n"
     ]
    }
   ],
   "source": [
    "num = int(input())\n",
    "\n",
    "hund = num // 100\n",
    "tens = num // 10 - hund * 10\n",
    "ones = num % 10\n",
    "\n",
    "if tens != 1 and ones == 1:\n",
    "    print(str(num), 'korova')\n",
    "elif tens != 1 and ones in [2, 3, 4]:\n",
    "    print(str(num), 'korovy')\n",
    "else:\n",
    "    print(str(num), 'korov')"
   ]
  },
  {
   "cell_type": "markdown",
   "metadata": {},
   "source": [
    "## **T. Мороженое**"
   ]
  },
  {
   "cell_type": "markdown",
   "metadata": {},
   "source": [
    "В кафе мороженое продают по три шарика и по пять шариков. Можно ли купить ровно k шариков мороженого?\\\n",
    "*Формат ввода*\\\n",
    "Вводится число k (целое,положительное)\\\n",
    "*Формат вывода*\\\n",
    "Программа должна вывести слово YES, если при таких условиях можно набрать ровно k шариков (не больше и не меньше), в противном случае - вывести NO. "
   ]
  },
  {
   "cell_type": "code",
   "execution_count": 243,
   "metadata": {},
   "outputs": [
    {
     "name": "stdin",
     "output_type": "stream",
     "text": [
      " 31\n"
     ]
    },
    {
     "name": "stdout",
     "output_type": "stream",
     "text": [
      "YES\n"
     ]
    }
   ],
   "source": [
    "k = int(input())\n",
    "\n",
    "fives = k // 5\n",
    "i = 0\n",
    "while i <= fives:\n",
    "    if (k - i * 5) % 3 == 0:\n",
    "        print('YES')\n",
    "        break\n",
    "    i += 1\n",
    "else:\n",
    "    print('NO')"
   ]
  },
  {
   "cell_type": "markdown",
   "metadata": {},
   "source": [
    "## **U. Сложное уравнение**"
   ]
  },
  {
   "cell_type": "markdown",
   "metadata": {},
   "source": [
    "Решить в целых числах уравнение: $$(ax+b)/(cx+d)=0$$\\\n",
    "*Формат ввода*\\\n",
    "Вводятся 4 числа: a, b, c, d; c и d не равны нулю одновременно.\\\n",
    "*Формат вывода*\\\n",
    "Необходимо вывести все решения, если их число конечно, “NO” (без кавычек), если решений нет, и “INF” (без кавычек), если решений бесконечно много. "
   ]
  },
  {
   "cell_type": "code",
   "execution_count": 171,
   "metadata": {},
   "outputs": [
    {
     "name": "stdin",
     "output_type": "stream",
     "text": [
      " 2\n",
      " 3\n",
      " 4\n",
      " 5\n"
     ]
    },
    {
     "name": "stdout",
     "output_type": "stream",
     "text": [
      "NO\n"
     ]
    }
   ],
   "source": [
    "a = int(input())\n",
    "b = int(input())\n",
    "c = int(input())\n",
    "d = int(input())\n",
    "if c == 0 and d == 0:\n",
    "    print('NO')\n",
    "elif a == 0:\n",
    "    if b == 0:\n",
    "        print('INF')\n",
    "    else:\n",
    "        print('NO')\n",
    "elif c != 0 and -d/c == -b/a:\n",
    "    print('NO')\n",
    "elif -b/a == -b//a:\n",
    "    print(-b//a)\n",
    "else:\n",
    "    print('NO')"
   ]
  },
  {
   "cell_type": "markdown",
   "metadata": {},
   "source": [
    "## **V. Котлеты**"
   ]
  },
  {
   "cell_type": "markdown",
   "metadata": {},
   "source": [
    "На сковородку одновременно можно положить k котлет. Каждую котлету нужно с каждой стороны обжаривать m минут непрерывно. За какое наименьшее время удастся поджарить с обеих сторон n котлет?\\\n",
    "*Формат ввода*\\\n",
    "Программа получает на вход три числа: k, m, n.\\\n",
    "*Формат вывода*\\\n",
    "Программа должна вывести одно число: наименьшее количество минут."
   ]
  },
  {
   "cell_type": "code",
   "execution_count": 132,
   "metadata": {},
   "outputs": [
    {
     "name": "stdin",
     "output_type": "stream",
     "text": [
      " 16\n",
      " 2\n",
      " 3\n"
     ]
    },
    {
     "name": "stdout",
     "output_type": "stream",
     "text": [
      "4\n"
     ]
    }
   ],
   "source": [
    "k = int(input())\n",
    "m = int(input())\n",
    "n = int(input())\n",
    "if n == 0:\n",
    "    ports = 0\n",
    "elif n <= k:\n",
    "    ports = 1\n",
    "else:\n",
    "    ports = n // k\n",
    "    if n % k > k / 2:\n",
    "        ports += 1\n",
    "    elif n % k != 0:\n",
    "        ports += 1/2\n",
    "print(int(2 * m * ports))"
   ]
  },
  {
   "cell_type": "code",
   "execution_count": 114,
   "metadata": {},
   "outputs": [
    {
     "data": {
      "text/plain": [
       "2"
      ]
     },
     "execution_count": 114,
     "metadata": {},
     "output_type": "execute_result"
    }
   ],
   "source": [
    "n % k"
   ]
  },
  {
   "cell_type": "code",
   "execution_count": 116,
   "metadata": {},
   "outputs": [
    {
     "data": {
      "text/plain": [
       "2.5"
      ]
     },
     "execution_count": 116,
     "metadata": {},
     "output_type": "execute_result"
    }
   ],
   "source": [
    "n / 2"
   ]
  },
  {
   "cell_type": "code",
   "execution_count": 117,
   "metadata": {},
   "outputs": [
    {
     "data": {
      "text/plain": [
       "False"
      ]
     },
     "execution_count": 117,
     "metadata": {},
     "output_type": "execute_result"
    }
   ],
   "source": [
    "n % k > n / 2"
   ]
  },
  {
   "cell_type": "code",
   "execution_count": 66,
   "metadata": {},
   "outputs": [
    {
     "data": {
      "text/plain": [
       "2"
      ]
     },
     "execution_count": 66,
     "metadata": {},
     "output_type": "execute_result"
    }
   ],
   "source": [
    "ports"
   ]
  },
  {
   "cell_type": "code",
   "execution_count": 64,
   "metadata": {},
   "outputs": [
    {
     "data": {
      "text/plain": [
       "3"
      ]
     },
     "execution_count": 64,
     "metadata": {},
     "output_type": "execute_result"
    }
   ],
   "source": [
    "3 % 5"
   ]
  },
  {
   "cell_type": "markdown",
   "metadata": {},
   "source": [
    "## **W. Спички**"
   ]
  },
  {
   "cell_type": "markdown",
   "metadata": {},
   "source": [
    "Вдоль прямой выложены три спички. Необходимо переложить одну из них так, чтобы при поджигании любой спички сгорали все три. Для того чтобы огонь переходил с одной спички на другую, необходимо чтобы эти спички соприкасались (хотя бы концами).\\\n",
    "Требуется написать программу, определяющую, какую из трех спичек необходимо переместить.\\\n",
    "*Формат ввода*\\\n",
    "Вводятся шесть целых чисел через пробел: l1, r1, l2, r2, l3, r3 –– координаты первой, второй и третьей спичек соответственно (). Каждая спичка описывается координатами левого и правого концов по горизонтальной оси OX.\\\n",
    "*Формат вывода*\\\n",
    "Выведите номер искомой спички. Если возможных ответов несколько, то выведите наименьший из них. В случае, когда нет необходимости перемещать какую-либо спичку, выведите 0. Если же требуемого результата достигнуть невозможно, то выведите -1. "
   ]
  },
  {
   "cell_type": "code",
   "execution_count": 146,
   "metadata": {},
   "outputs": [
    {
     "name": "stdin",
     "output_type": "stream",
     "text": [
      " 1\n",
      " 5\n",
      " 20\n",
      " 22\n",
      " 30\n",
      " 35\n"
     ]
    },
    {
     "name": "stdout",
     "output_type": "stream",
     "text": [
      "-1\n"
     ]
    }
   ],
   "source": [
    "l1 = int(input())\n",
    "r1 = int(input())\n",
    "l2 = int(input())\n",
    "r2 = int(input())\n",
    "l3 = int(input())\n",
    "r3 = int(input())\n",
    "cross12 = not(l2 > r1 or r2 < l1)\n",
    "cross13 = not(l3 > r1 or r3 < l1)\n",
    "cross23 = not(l2 > r3 or r2 < l3)\n",
    "if (cross12 and cross13) or (cross12 and cross23) or (cross13 and cross23):\n",
    "    print(0)\n",
    "elif cross23:\n",
    "    print(1)\n",
    "elif cross13:\n",
    "    if (l2 > r3 and r3 >= r1 and (l2 - r3) <= (r1 - l1)) or (r2 < l3 and l3 <= l1 and (l3 - r2) <= (r1 - l1)):\n",
    "        print(1)\n",
    "    else:\n",
    "        print(2)\n",
    "elif cross12:\n",
    "    if l3 > r2 and r2 >= r1:\n",
    "        if (l3 - r2) <= (r1 - l1):\n",
    "            print(1)\n",
    "        elif (l3 - r1) <= (r2 - l2):\n",
    "            print(2)\n",
    "        else:\n",
    "            print(3)\n",
    "    elif r3 < l1 and l1 <= l2:\n",
    "        if (l2 - r3) <= (r1 - l1):\n",
    "            print(1)\n",
    "        elif (l1 - r3) <= (r2 - l2):\n",
    "            print(2)\n",
    "        else:\n",
    "            print(3)\n",
    "    elif l3 > r1 and r1 >= r2:\n",
    "        if (l3 - r2) <= (r1 - l1):\n",
    "            print(1)\n",
    "        elif (l3 - r1) <= (r2 - l2):\n",
    "            print(2)\n",
    "        else:\n",
    "            print(3)\n",
    "    elif (l2 - r3) <= (r1 - l1):\n",
    "        print(1)\n",
    "    elif (l1 - r3) <= (r2 - l2):\n",
    "        print(2)\n",
    "    else:\n",
    "        print(3)\n",
    "elif (0 < l3 - r2 <= r1 - l1) or (0 < l2 - r3 <= r1 - l1):\n",
    "    print(1)\n",
    "elif (0 < l3 - r1 <= r2 - l2) or (0 < l1 - r3 <= r2 - l2):\n",
    "    print(2)\n",
    "elif (0 < l2 - r1 <= r3 - l3) or (0 < l1 - r2 <= r3 - l3):\n",
    "    print(3)\n",
    "else:\n",
    "    print(-1)"
   ]
  },
  {
   "cell_type": "markdown",
   "metadata": {},
   "source": [
    "## **X. Упаковка**"
   ]
  },
  {
   "cell_type": "markdown",
   "metadata": {},
   "source": [
    "В одну транспортную компанию поступил заказ на перевозку двух ящиков из одного города в другой. Для перевозки ящики решено было упаковать в специальный контейнер.\\\n",
    "Ящики и контейнер имеют вид прямоугольных параллелепипедов. Длина, ширина и высота первого ящика — l1, w1 и h1, соответствующие размеры второго ящика – l2, w2 и h2. Контейнер имеет длину, ширину и высоту lc, wc и hc.\\\n",
    "Поскольку ящики содержат хрупкое оборудование, после упаковки в контейнер каждый из них должен остаться в строго вертикальном положении. Таким образом, ящики можно разместить рядом или один на другом. Для надежного закрепления в контейнере стороны ящиков должны быть параллельны его сторонам. Иначе говоря, если исходно ящики были расположены так, что все их стороны параллельны соответствующим сторонам контейнера, то каждый из них разрешается перемещать и поворачивать относительно вертикальной оси на угол, кратный 90 градусам.\\\n",
    "Разумеется, после упаковки оба ящика должны полностью находиться внутри контейнера и не должны пересекаться.\\\n",
    "Выясните, можно ли поместить ящики в контейнер с соблюдением указанных условий.\\\n",
    "*Формат ввода*\\\n",
    "Первая строка входных данных содержит l1, w1 и h1, вторая — l2, w2 и h2, третья – lc, wc и hc. Все размеры — целые положительные числа, не превышающие 1000. Числа в строках разделены пробелами. "
   ]
  },
  {
   "cell_type": "code",
   "execution_count": 55,
   "metadata": {},
   "outputs": [
    {
     "name": "stdin",
     "output_type": "stream",
     "text": [
      " 3\n",
      " 2\n",
      " 2\n",
      " 3\n",
      " 1\n",
      " 2\n",
      " 5\n",
      " 2\n",
      " 3\n"
     ]
    },
    {
     "name": "stdout",
     "output_type": "stream",
     "text": [
      "NO\n"
     ]
    }
   ],
   "source": [
    "l1 = int(input())\n",
    "w1 = int(input())\n",
    "h1 = int(input())\n",
    "l2 = int(input())\n",
    "w2 = int(input())\n",
    "h2 = int(input())\n",
    "lc = int(input())\n",
    "wc = int(input())\n",
    "hc = int(input())\n",
    "\n",
    "if l1 < w1:\n",
    "    (l1, w1) = (w1, l1)\n",
    "if l2 < w2:\n",
    "    (l2, w2) = (w2, l2)\n",
    "if lc < wc:\n",
    "    (lc, wc) = (wc, lc)\n",
    "\n",
    "if h1 > hc or h2 > hc:\n",
    "    print('NO')\n",
    "else:\n",
    "    v1_l = lc\n",
    "    v1_w = wc\n",
    "    v1_h = hc - h1\n",
    "    v1_less_box2 = v1_l < l2 or v1_w < w2 or v1_h < h2\n",
    "\n",
    "    v2_l = lc - l1\n",
    "    v2_w = wc\n",
    "    v2_h = hc\n",
    "    if v2_l < v2_w:\n",
    "        (v2_l, v2_w) = (v2_w, v2_l)\n",
    "    v2_less_box2 = v2_l < l2 or v2_w < w2 or v2_h < h2\n",
    "\n",
    "    v3_l = lc\n",
    "    v3_w = wc - w1\n",
    "    v3_h = hc\n",
    "    v3_less_box2 = v3_l < l2 or v3_w < w2 or v3_h < h2\n",
    "\n",
    "    v4_l = lc - w1\n",
    "    v4_w = wc\n",
    "    v4_h = hc\n",
    "    if v4_l < v4_w:\n",
    "        (v4_l, v4_w) = (v4_w, v4_l)\n",
    "    v4_less_box2 = v4_l < l2 or v4_w < w2 or v4_h < h2\n",
    "\n",
    "    v5_l = lc\n",
    "    v5_w = wc - l1\n",
    "    v5_h = hc\n",
    "    v5_less_box2 = v5_l < l2 or v5_w < w2 or v5_h < h2\n",
    "\n",
    "    if v2_l < 0 or v2_w < 0 or v3_w < 0: # замеры после 1 варианта < 0\n",
    "        if v2_l < 0 or v4_l < 0 or v4_w < 0 or v5_w < 0: # замеры после 2 варианта < 0\n",
    "            print('NO')\n",
    "        elif v1_less_box2 and v4_less_box2 and v5_less_box2: # не влезет 2 коробка после 2 варианта\n",
    "            print('NO')\n",
    "        else:\n",
    "            print('YES')\n",
    "    elif v1_less_box2 and v2_less_box2 and v3_less_box2: # не влезет 2 коробка после 1 варианта\n",
    "        if v2_l < 0 or v4_l < 0 or v4_w < 0 or v5_w < 0: # замеры после 2 варианта < 0\n",
    "            print('NO')\n",
    "        elif v1_less_box2 and v4_less_box2 and v5_less_box2: # не влезет 2 коробка после 2 варианта\n",
    "            print('NO')\n",
    "        else:\n",
    "            print('YES')\n",
    "    else:\n",
    "        print('YES')"
   ]
  },
  {
   "cell_type": "code",
   "execution_count": 44,
   "metadata": {},
   "outputs": [
    {
     "name": "stdout",
     "output_type": "stream",
     "text": [
      "5 2 1 True\n"
     ]
    }
   ],
   "source": [
    "print(v1_l, v1_w, v1_h, v1_less_box2)"
   ]
  },
  {
   "cell_type": "code",
   "execution_count": 45,
   "metadata": {},
   "outputs": [
    {
     "name": "stdout",
     "output_type": "stream",
     "text": [
      "2 2 3 True\n"
     ]
    }
   ],
   "source": [
    "print(v2_l, v2_w, v2_h, v2_less_box2)"
   ]
  },
  {
   "cell_type": "code",
   "execution_count": 46,
   "metadata": {},
   "outputs": [
    {
     "name": "stdout",
     "output_type": "stream",
     "text": [
      "5 0 3 True\n"
     ]
    }
   ],
   "source": [
    "print(v3_l, v3_w, v3_h, v3_less_box2)"
   ]
  },
  {
   "cell_type": "code",
   "execution_count": 47,
   "metadata": {},
   "outputs": [
    {
     "name": "stdout",
     "output_type": "stream",
     "text": [
      "3 2 3 False\n"
     ]
    }
   ],
   "source": [
    "print(v4_l, v4_w, v4_h, v4_less_box2)"
   ]
  },
  {
   "cell_type": "code",
   "execution_count": 48,
   "metadata": {},
   "outputs": [
    {
     "name": "stdout",
     "output_type": "stream",
     "text": [
      "5 -1 3 True\n"
     ]
    }
   ],
   "source": [
    "print(v5_l, v5_w, v5_h, v5_less_box2)"
   ]
  },
  {
   "cell_type": "code",
   "execution_count": 49,
   "metadata": {},
   "outputs": [
    {
     "data": {
      "text/plain": [
       "False"
      ]
     },
     "execution_count": 49,
     "metadata": {},
     "output_type": "execute_result"
    }
   ],
   "source": [
    "(v2_l < 0 or v2_w < 0 or v3_w < 0) and (v4_l < 0 or v4_w < 0 or v5_w < 0)"
   ]
  },
  {
   "cell_type": "code",
   "execution_count": 50,
   "metadata": {},
   "outputs": [
    {
     "data": {
      "text/plain": [
       "False"
      ]
     },
     "execution_count": 50,
     "metadata": {},
     "output_type": "execute_result"
    }
   ],
   "source": [
    "(v2_l < 0 or v2_w < 0 or v3_w < 0) and (v2_l < 0 or v4_l < 0 or v4_w < 0 or v5_w < 0)"
   ]
  }
 ],
 "metadata": {
  "kernelspec": {
   "display_name": "Python 3 (ipykernel)",
   "language": "python",
   "name": "python3"
  },
  "language_info": {
   "codemirror_mode": {
    "name": "ipython",
    "version": 3
   },
   "file_extension": ".py",
   "mimetype": "text/x-python",
   "name": "python",
   "nbconvert_exporter": "python",
   "pygments_lexer": "ipython3",
   "version": "3.10.1"
  }
 },
 "nbformat": 4,
 "nbformat_minor": 4
}
