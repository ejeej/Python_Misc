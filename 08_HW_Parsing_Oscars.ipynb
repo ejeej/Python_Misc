{
 "cells": [
  {
   "cell_type": "markdown",
   "metadata": {},
   "source": [
    "### **Задача 1**"
   ]
  },
  {
   "cell_type": "markdown",
   "metadata": {},
   "source": [
    "Дана страница https://ru.wikipedia.org/wiki/Премия_«Оскар»_за_лучший_фильм\n",
    "\n",
    "Используя удобные для вас модули Python (Например requests, bs4 и pandas, но можно и любые другие) сгрузить в удобную для вас структуру данных (например pandas-табличку) данные о номинантах и победителях премии Оскар за лучший фильм за всю историю существования премии. Заметьте, на страничке эта информация в нескольких таблицах. По данным ответьте на вопросы. P.S. Результат нужно именно посчитать, если на странице в явном виде указан ответ на вопрос, просто выгрузить этот ответ нельзя:\n",
    "\n",
    "1. Сколько раз были номинированы фильмы, созданные при участии Стивена Спилберга?\n",
    "2. Фильмы какой компании получили больше Оскаров за лучший фильм: Warner Bros. или Paramount Pictures и насколько больше?"
   ]
  },
  {
   "cell_type": "code",
   "execution_count": 26,
   "metadata": {},
   "outputs": [
    {
     "data": {
      "text/plain": [
       "<Response [200]>"
      ]
     },
     "execution_count": 26,
     "metadata": {},
     "output_type": "execute_result"
    }
   ],
   "source": [
    "url = 'https://ru.wikipedia.org/wiki/Премия_«Оскар»_за_лучший_фильм'\n",
    "import requests\n",
    "response = requests.get(url)\n",
    "response"
   ]
  },
  {
   "cell_type": "code",
   "execution_count": 27,
   "metadata": {},
   "outputs": [],
   "source": [
    "oscars = response.content"
   ]
  },
  {
   "cell_type": "code",
   "execution_count": 28,
   "metadata": {},
   "outputs": [],
   "source": [
    "from bs4 import BeautifulSoup"
   ]
  },
  {
   "cell_type": "code",
   "execution_count": 29,
   "metadata": {},
   "outputs": [],
   "source": [
    "tree = BeautifulSoup(oscars, features=\"html.parser\")"
   ]
  },
  {
   "cell_type": "code",
   "execution_count": 30,
   "metadata": {},
   "outputs": [],
   "source": [
    "tds = tree.find_all('td')"
   ]
  },
  {
   "cell_type": "code",
   "execution_count": 31,
   "metadata": {},
   "outputs": [
    {
     "name": "stdout",
     "output_type": "stream",
     "text": [
      "<td align=\"center\" rowspan=\"3\" style=\"background:#fff\"><big><b><a href=\"/wiki/1929_%D0%B3%D0%BE%D0%B4_%D0%B2_%D0%BA%D0%B8%D0%BD%D0%BE\" title=\"1929 год в кино\">1929</a></b><br/></big> (<a href=\"/wiki/%D0%9E%D1%81%D0%BA%D0%B0%D1%80_(%D0%BA%D0%B8%D0%BD%D0%BE%D0%BF%D1%80%D0%B5%D0%BC%D0%B8%D1%8F,_1929)\" title=\"Оскар (кинопремия, 1929)\">1-я</a>)\n",
      "</td>\n"
     ]
    }
   ],
   "source": [
    "print(tds[0]) # год"
   ]
  },
  {
   "cell_type": "code",
   "execution_count": 32,
   "metadata": {},
   "outputs": [
    {
     "name": "stdout",
     "output_type": "stream",
     "text": [
      "[<td>★ <b>«<a href=\"/wiki/%D0%9A%D1%80%D1%8B%D0%BB%D1%8C%D1%8F_(%D1%84%D0%B8%D0%BB%D1%8C%D0%BC,_1927)\" title=\"Крылья (фильм, 1927)\">Крылья</a>»</b>\n",
      "</td>, <td><b><a href=\"/wiki/Paramount_Pictures\" title=\"Paramount Pictures\">Paramount Pictures</a>, <a href=\"/wiki/Famous_Players-Lasky\" title=\"Famous Players-Lasky\">Famous Players-Lasky</a></b>\n",
      "</td>, <td><b><a href=\"/wiki/%D0%A5%D0%B0%D0%B1%D0%B1%D0%B0%D1%80%D0%B4,_%D0%9B%D1%8E%D1%81%D1%8C%D0%B5%D0%BD\" title=\"Хаббард, Люсьен\">Люсьен Хаббард</a></b>\n",
      "</td>]\n"
     ]
    }
   ],
   "source": [
    "print(tds[1:4]) # инфо про фильм-победитель"
   ]
  },
  {
   "cell_type": "code",
   "execution_count": 33,
   "metadata": {},
   "outputs": [
    {
     "name": "stdout",
     "output_type": "stream",
     "text": [
      "[<td>«<a href=\"/wiki/%D0%A0%D1%8D%D0%BA%D0%B5%D1%82_(%D1%84%D0%B8%D0%BB%D1%8C%D0%BC,_1928)\" title=\"Рэкет (фильм, 1928)\">Рэкет</a>»\n",
      "</td>, <td>Caddo, Paramount\n",
      "</td>, <td><a class=\"mw-redirect\" href=\"/wiki/%D0%93%D0%BE%D0%B2%D0%B0%D1%80%D0%B4_%D0%A5%D1%8C%D1%8E%D0%B7\" title=\"Говард Хьюз\">Говард Хьюз</a>\n",
      "</td>, <td>«<a href=\"/wiki/%D0%A1%D0%B5%D0%B4%D1%8C%D0%BC%D0%BE%D0%B5_%D0%BD%D0%B5%D0%B1%D0%BE_(%D1%84%D0%B8%D0%BB%D1%8C%D0%BC,_1927)\" title=\"Седьмое небо (фильм, 1927)\">Седьмое небо</a>»\n",
      "</td>]\n"
     ]
    }
   ],
   "source": [
    "print(tds[5:9]) # инфо про фильм-номинант"
   ]
  },
  {
   "cell_type": "code",
   "execution_count": 34,
   "metadata": {},
   "outputs": [
    {
     "data": {
      "text/plain": [
       "<td align=\"center\" rowspan=\"3\" style=\"background:#fff\"><sup class=\"reference\" id=\"cite_ref-2\"><a href=\"#cite_note-2\">[# 1]</a></sup>\n",
       "</td>"
      ]
     },
     "execution_count": 34,
     "metadata": {},
     "output_type": "execute_result"
    }
   ],
   "source": [
    "tds[4] # форматирование (объединение ячеек с годом) (не нужны)"
   ]
  },
  {
   "cell_type": "code",
   "execution_count": 35,
   "metadata": {},
   "outputs": [
    {
     "data": {
      "text/plain": [
       "<td align=\"center\" rowspan=\"8\" style=\"background:#fff\">\n",
       "</td>"
      ]
     },
     "execution_count": 35,
     "metadata": {},
     "output_type": "execute_result"
    }
   ],
   "source": [
    "tds[1822] # форматирование (не нужны)"
   ]
  },
  {
   "cell_type": "code",
   "execution_count": 36,
   "metadata": {},
   "outputs": [
    {
     "data": {
      "text/plain": [
       "<td rowspan=\"2\"><a href=\"/wiki/%D0%9E%D1%81%D0%BA%D0%B0%D1%80_(%D0%BA%D0%B8%D0%BD%D0%BE%D0%BF%D1%80%D0%B5%D0%BC%D0%B8%D1%8F,_2012)\" title=\"Оскар (кинопремия, 2012)\">2012</a>\n",
       "</td>"
      ]
     },
     "execution_count": 36,
     "metadata": {},
     "output_type": "execute_result"
    }
   ],
   "source": [
    "tds[2252] # данные из последних табличек про достижения фильмов (не нужны)"
   ]
  },
  {
   "cell_type": "code",
   "execution_count": 37,
   "metadata": {},
   "outputs": [],
   "source": [
    "years = [] # годы\n",
    "indyears = [] # индекс для элемента с годом в tds\n",
    "nfilms = [] # кол-во фильмов-номинантов в году\n",
    "for i in range(len(tds)):\n",
    "    if tds[i].big != None:\n",
    "        indyears += [i]\n",
    "        years += [tds[i].a.text]\n",
    "        nfilms += [int(tds[i].get('rowspan'))]"
   ]
  },
  {
   "cell_type": "code",
   "execution_count": 38,
   "metadata": {},
   "outputs": [],
   "source": [
    "indyears_last = indyears[1:] + [len(tds) - 1] # индекс последнего элемента для каждого года\n",
    "filmyears = [] # сюда будем собирать год номинации для каждого фильма\n",
    "films = [] # сюда будем собирать названия фильмов\n",
    "filmwins = [] # сюда будем собирать True для фильмов-победителей и False для остальных номинантов\n",
    "filmcomps = [] # сюда будем собирать названия кинокомпаний\n",
    "filmprods = [] # сюда будем собирать ФИ продюссеров\n",
    "for i in range(len(years)):\n",
    "    ncol = 0\n",
    "    nflm = 0\n",
    "    for j in range(indyears[i] + 1, indyears_last[i]):\n",
    "        # фильм-победитель\n",
    "        if tds[j].b != None: \n",
    "            ncol += 1\n",
    "            if ncol == 1:\n",
    "                filmyears += [years[i]]\n",
    "                films += [tds[j].a.text]\n",
    "                filmwins += [True]\n",
    "            elif ncol == 2:\n",
    "                filmcomps += [tds[j].text.strip()]\n",
    "            elif ncol == 3:\n",
    "                filmprods += [tds[j].text.strip()]\n",
    "                ncol = 0\n",
    "                nflm += 1\n",
    "        # прочие фильмы (элементы tds, не относящиеся к форматированию)\n",
    "        elif tds[j].sup == None and tds[j].get('rowspan') == None: \n",
    "            ncol += 1\n",
    "            if ncol == 1:\n",
    "                filmyears += [years[i]]\n",
    "                films += [tds[j].a.text]\n",
    "                filmwins += [False]\n",
    "            elif ncol == 2:\n",
    "                filmcomps += [tds[j].text.strip()]\n",
    "            elif ncol == 3:\n",
    "                filmprods += [tds[j].text.strip()]\n",
    "                ncol = 0\n",
    "                nflm += 1\n",
    "                # чтобы не считывать последние строчки, после таблиц с номинантами\n",
    "                if nflm == nfilms[i]: \n",
    "                    break"
   ]
  },
  {
   "cell_type": "code",
   "execution_count": 39,
   "metadata": {},
   "outputs": [],
   "source": [
    "bestfilms = {'Year': filmyears, 'Film': films, 'Winner': filmwins, 'FilmCompanies': filmcomps, 'Producers': filmprods}"
   ]
  },
  {
   "cell_type": "code",
   "execution_count": 40,
   "metadata": {},
   "outputs": [
    {
     "name": "stdout",
     "output_type": "stream",
     "text": [
      "(563, 5)\n"
     ]
    },
    {
     "data": {
      "text/html": [
       "<div>\n",
       "<style scoped>\n",
       "    .dataframe tbody tr th:only-of-type {\n",
       "        vertical-align: middle;\n",
       "    }\n",
       "\n",
       "    .dataframe tbody tr th {\n",
       "        vertical-align: top;\n",
       "    }\n",
       "\n",
       "    .dataframe thead th {\n",
       "        text-align: right;\n",
       "    }\n",
       "</style>\n",
       "<table border=\"1\" class=\"dataframe\">\n",
       "  <thead>\n",
       "    <tr style=\"text-align: right;\">\n",
       "      <th></th>\n",
       "      <th>Year</th>\n",
       "      <th>Film</th>\n",
       "      <th>Winner</th>\n",
       "      <th>FilmCompanies</th>\n",
       "      <th>Producers</th>\n",
       "    </tr>\n",
       "  </thead>\n",
       "  <tbody>\n",
       "    <tr>\n",
       "      <th>0</th>\n",
       "      <td>1929</td>\n",
       "      <td>Крылья</td>\n",
       "      <td>True</td>\n",
       "      <td>Paramount Pictures, Famous Players-Lasky</td>\n",
       "      <td>Люсьен Хаббард</td>\n",
       "    </tr>\n",
       "    <tr>\n",
       "      <th>1</th>\n",
       "      <td>1929</td>\n",
       "      <td>Рэкет</td>\n",
       "      <td>False</td>\n",
       "      <td>Caddo, Paramount</td>\n",
       "      <td>Говард Хьюз</td>\n",
       "    </tr>\n",
       "    <tr>\n",
       "      <th>2</th>\n",
       "      <td>1929</td>\n",
       "      <td>Седьмое небо</td>\n",
       "      <td>False</td>\n",
       "      <td>Fox Film Corporation</td>\n",
       "      <td>Уильям Фокс</td>\n",
       "    </tr>\n",
       "    <tr>\n",
       "      <th>3</th>\n",
       "      <td>1930-I</td>\n",
       "      <td>Бродвейская мелодия</td>\n",
       "      <td>True</td>\n",
       "      <td>Metro-Goldwyn-Mayer</td>\n",
       "      <td>Ирвинг Талберг, Лоуренс Уэйнгартен</td>\n",
       "    </tr>\n",
       "    <tr>\n",
       "      <th>4</th>\n",
       "      <td>1930-I</td>\n",
       "      <td>Алиби</td>\n",
       "      <td>False</td>\n",
       "      <td>Feature Productions, United Artists</td>\n",
       "      <td>Роланд Уэст</td>\n",
       "    </tr>\n",
       "    <tr>\n",
       "      <th>5</th>\n",
       "      <td>1930-I</td>\n",
       "      <td>Голливудское ревю 1929 года</td>\n",
       "      <td>False</td>\n",
       "      <td>Metro-Goldwyn-Mayer</td>\n",
       "      <td>Гарри Рапф</td>\n",
       "    </tr>\n",
       "    <tr>\n",
       "      <th>6</th>\n",
       "      <td>1930-I</td>\n",
       "      <td>В старой Аризоне</td>\n",
       "      <td>False</td>\n",
       "      <td>Fox Film Corporation</td>\n",
       "      <td>Уинфилд Шихэн</td>\n",
       "    </tr>\n",
       "    <tr>\n",
       "      <th>7</th>\n",
       "      <td>1930-I</td>\n",
       "      <td>Патриот</td>\n",
       "      <td>False</td>\n",
       "      <td>Paramount Pictures</td>\n",
       "      <td>Эрнст Любич</td>\n",
       "    </tr>\n",
       "    <tr>\n",
       "      <th>8</th>\n",
       "      <td>1930-II</td>\n",
       "      <td>На западном фронте без перемен</td>\n",
       "      <td>True</td>\n",
       "      <td>Universal</td>\n",
       "      <td>Карл Леммле-мл.</td>\n",
       "    </tr>\n",
       "    <tr>\n",
       "      <th>9</th>\n",
       "      <td>1930-II</td>\n",
       "      <td>Казённый дом</td>\n",
       "      <td>False</td>\n",
       "      <td>Metro-Goldwyn-Mayer</td>\n",
       "      <td>Ирвинг Талберг</td>\n",
       "    </tr>\n",
       "  </tbody>\n",
       "</table>\n",
       "</div>"
      ],
      "text/plain": [
       "      Year                            Film  Winner  \\\n",
       "0     1929                          Крылья    True   \n",
       "1     1929                           Рэкет   False   \n",
       "2     1929                    Седьмое небо   False   \n",
       "3   1930-I             Бродвейская мелодия    True   \n",
       "4   1930-I                           Алиби   False   \n",
       "5   1930-I     Голливудское ревю 1929 года   False   \n",
       "6   1930-I                В старой Аризоне   False   \n",
       "7   1930-I                         Патриот   False   \n",
       "8  1930-II  На западном фронте без перемен    True   \n",
       "9  1930-II                    Казённый дом   False   \n",
       "\n",
       "                              FilmCompanies  \\\n",
       "0  Paramount Pictures, Famous Players-Lasky   \n",
       "1                          Caddo, Paramount   \n",
       "2                      Fox Film Corporation   \n",
       "3                       Metro-Goldwyn-Mayer   \n",
       "4       Feature Productions, United Artists   \n",
       "5                       Metro-Goldwyn-Mayer   \n",
       "6                      Fox Film Corporation   \n",
       "7                        Paramount Pictures   \n",
       "8                                 Universal   \n",
       "9                       Metro-Goldwyn-Mayer   \n",
       "\n",
       "                            Producers  \n",
       "0                      Люсьен Хаббард  \n",
       "1                         Говард Хьюз  \n",
       "2                         Уильям Фокс  \n",
       "3  Ирвинг Талберг, Лоуренс Уэйнгартен  \n",
       "4                         Роланд Уэст  \n",
       "5                          Гарри Рапф  \n",
       "6                       Уинфилд Шихэн  \n",
       "7                         Эрнст Любич  \n",
       "8                     Карл Леммле-мл.  \n",
       "9                      Ирвинг Талберг  "
      ]
     },
     "execution_count": 40,
     "metadata": {},
     "output_type": "execute_result"
    }
   ],
   "source": [
    "import pandas as pd\n",
    "bestfilms_df = pd.DataFrame(bestfilms)\n",
    "print(bestfilms_df.shape)\n",
    "bestfilms_df.head(10)"
   ]
  },
  {
   "cell_type": "code",
   "execution_count": 41,
   "metadata": {},
   "outputs": [
    {
     "data": {
      "text/html": [
       "<div>\n",
       "<style scoped>\n",
       "    .dataframe tbody tr th:only-of-type {\n",
       "        vertical-align: middle;\n",
       "    }\n",
       "\n",
       "    .dataframe tbody tr th {\n",
       "        vertical-align: top;\n",
       "    }\n",
       "\n",
       "    .dataframe thead th {\n",
       "        text-align: right;\n",
       "    }\n",
       "</style>\n",
       "<table border=\"1\" class=\"dataframe\">\n",
       "  <thead>\n",
       "    <tr style=\"text-align: right;\">\n",
       "      <th></th>\n",
       "      <th>Year</th>\n",
       "      <th>Film</th>\n",
       "      <th>Winner</th>\n",
       "      <th>FilmCompanies</th>\n",
       "      <th>Producers</th>\n",
       "    </tr>\n",
       "  </thead>\n",
       "  <tbody>\n",
       "    <tr>\n",
       "      <th>553</th>\n",
       "      <td>2019</td>\n",
       "      <td>Власть</td>\n",
       "      <td>False</td>\n",
       "      <td></td>\n",
       "      <td>Деде Гарднер, Джереми Клейнер, Адам Маккей и К...</td>\n",
       "    </tr>\n",
       "    <tr>\n",
       "      <th>554</th>\n",
       "      <td>2020</td>\n",
       "      <td>Паразиты</td>\n",
       "      <td>True</td>\n",
       "      <td></td>\n",
       "      <td>Квак Щин-э и Пон Чжун Хо</td>\n",
       "    </tr>\n",
       "    <tr>\n",
       "      <th>555</th>\n",
       "      <td>2020</td>\n",
       "      <td>Ford против Ferrari</td>\n",
       "      <td>False</td>\n",
       "      <td></td>\n",
       "      <td>Питер Чернин, Дженно Топпинг и Джеймс Мэнголд</td>\n",
       "    </tr>\n",
       "    <tr>\n",
       "      <th>556</th>\n",
       "      <td>2020</td>\n",
       "      <td>Ирландец</td>\n",
       "      <td>False</td>\n",
       "      <td></td>\n",
       "      <td>Мартин Скорсезе, Роберт Де Ниро, Джейн Розента...</td>\n",
       "    </tr>\n",
       "    <tr>\n",
       "      <th>557</th>\n",
       "      <td>2020</td>\n",
       "      <td>Кролик Джоджо</td>\n",
       "      <td>False</td>\n",
       "      <td></td>\n",
       "      <td>Кэртхью Нил и Тайка Вайтити</td>\n",
       "    </tr>\n",
       "    <tr>\n",
       "      <th>558</th>\n",
       "      <td>2020</td>\n",
       "      <td>Джокер</td>\n",
       "      <td>False</td>\n",
       "      <td></td>\n",
       "      <td>Тодд Филлипс, Брэдли Купер и Эмма Тиллинджер К...</td>\n",
       "    </tr>\n",
       "    <tr>\n",
       "      <th>559</th>\n",
       "      <td>2020</td>\n",
       "      <td>Маленькие женщины</td>\n",
       "      <td>False</td>\n",
       "      <td></td>\n",
       "      <td>Эми Паскаль</td>\n",
       "    </tr>\n",
       "    <tr>\n",
       "      <th>560</th>\n",
       "      <td>2020</td>\n",
       "      <td>Брачная история</td>\n",
       "      <td>False</td>\n",
       "      <td></td>\n",
       "      <td>Ноа Баумбах и Дэвид Хейман</td>\n",
       "    </tr>\n",
       "    <tr>\n",
       "      <th>561</th>\n",
       "      <td>2020</td>\n",
       "      <td>1917</td>\n",
       "      <td>False</td>\n",
       "      <td></td>\n",
       "      <td>Сэм Мендес, Пиппа Харрис, Джейн‑Энн Тенггрен и...</td>\n",
       "    </tr>\n",
       "    <tr>\n",
       "      <th>562</th>\n",
       "      <td>2020</td>\n",
       "      <td>Однажды в Голливуде</td>\n",
       "      <td>False</td>\n",
       "      <td></td>\n",
       "      <td>Дэвид Хейман, Шеннон Макинтош и Квентин Тарантино</td>\n",
       "    </tr>\n",
       "  </tbody>\n",
       "</table>\n",
       "</div>"
      ],
      "text/plain": [
       "     Year                 Film  Winner FilmCompanies  \\\n",
       "553  2019               Власть   False                 \n",
       "554  2020             Паразиты    True                 \n",
       "555  2020  Ford против Ferrari   False                 \n",
       "556  2020             Ирландец   False                 \n",
       "557  2020        Кролик Джоджо   False                 \n",
       "558  2020               Джокер   False                 \n",
       "559  2020    Маленькие женщины   False                 \n",
       "560  2020      Брачная история   False                 \n",
       "561  2020                 1917   False                 \n",
       "562  2020  Однажды в Голливуде   False                 \n",
       "\n",
       "                                             Producers  \n",
       "553  Деде Гарднер, Джереми Клейнер, Адам Маккей и К...  \n",
       "554                           Квак Щин-э и Пон Чжун Хо  \n",
       "555      Питер Чернин, Дженно Топпинг и Джеймс Мэнголд  \n",
       "556  Мартин Скорсезе, Роберт Де Ниро, Джейн Розента...  \n",
       "557                        Кэртхью Нил и Тайка Вайтити  \n",
       "558  Тодд Филлипс, Брэдли Купер и Эмма Тиллинджер К...  \n",
       "559                                        Эми Паскаль  \n",
       "560                         Ноа Баумбах и Дэвид Хейман  \n",
       "561  Сэм Мендес, Пиппа Харрис, Джейн‑Энн Тенггрен и...  \n",
       "562  Дэвид Хейман, Шеннон Макинтош и Квентин Тарантино  "
      ]
     },
     "execution_count": 41,
     "metadata": {},
     "output_type": "execute_result"
    }
   ],
   "source": [
    "bestfilms_df.tail(10)"
   ]
  },
  {
   "cell_type": "code",
   "execution_count": 42,
   "metadata": {},
   "outputs": [
    {
     "name": "stdout",
     "output_type": "stream",
     "text": [
      "Фильмов Стивена Спилберга: 10\n"
     ]
    }
   ],
   "source": [
    "films_spielberg = [i for i in filmprods if i.find('Стивен Спилберг') != -1]\n",
    "print('Фильмов Стивена Спилберга: ' + str(len(films_spielberg)))"
   ]
  },
  {
   "cell_type": "code",
   "execution_count": 54,
   "metadata": {},
   "outputs": [
    {
     "name": "stdout",
     "output_type": "stream",
     "text": [
      "Фильмов-победителей Warner Bros.: 10\n",
      "Фильмов-победителей Paramount Pictures: 9\n",
      "Фильмов-победителей Warner Bros. больше, чем фильмов Paramount Pictires, на 1\n"
     ]
    }
   ],
   "source": [
    "winners = bestfilms_df[bestfilms_df.Winner == True] # фильмы-победители\n",
    "\n",
    "films_warner = [i for i in winners.FilmCompanies if i.find('Warner Bros') != -1]\n",
    "print('Фильмов-победителей Warner Bros.: ' + str(len(films_warner)))\n",
    "films_paramount = [i for i in winners.FilmCompanies if i.find('Paramount Pictures') != -1]\n",
    "print('Фильмов-победителей Paramount Pictures: ' + str(len(films_paramount)))\n",
    "if len(films_warner) > len(films_paramount):\n",
    "    print('Фильмов-победителей Warner Bros. больше, чем фильмов Paramount Pictires, на ' + str(len(films_warner) - len(films_paramount)))\n",
    "else:\n",
    "    print('Фильмов-победителей Paramount Pictires больше, чем фильмов Warner Bros., на ' + str(len(films_warner) - len(films_paramount)))"
   ]
  },
  {
   "cell_type": "markdown",
   "metadata": {},
   "source": [
    "### **Задача 2**"
   ]
  },
  {
   "cell_type": "markdown",
   "metadata": {},
   "source": [
    "Дана страница https://ru.wikipedia.org/wiki/Премия_«Оскар»_за_лучшую_женскую_роль\n",
    "\n",
    "Используя удобные для вас модули Python (Например requests, bs4 и pandas, но можно и любые другие) сгрузить в удобную для вас структуру данных (например pandas-табличку) данные о номинантах и победителях премии Оскар за лучшую женскую роль за всю историю существования премии. Заметьте, на страничке эта информация в нескольких таблицах. По данным ответьте на вопросы. P.S. Результат нужно именно посчитать, если на странице в явном виде указан ответ на вопрос, просто выгрузить этот ответ нельзя:\n",
    "\n",
    "    1. Какая актриса чаще всего номинировалась на Оскар?\n",
    "    2. Насколько отличается количество номинаций самой часто номинировавшейся актрисы и второй по частоте?"
   ]
  },
  {
   "cell_type": "code",
   "execution_count": 1,
   "metadata": {},
   "outputs": [],
   "source": [
    "import pandas as pd"
   ]
  },
  {
   "cell_type": "code",
   "execution_count": 3,
   "metadata": {},
   "outputs": [
    {
     "data": {
      "text/plain": [
       "<Response [200]>"
      ]
     },
     "execution_count": 3,
     "metadata": {},
     "output_type": "execute_result"
    }
   ],
   "source": [
    "url = 'https://ru.wikipedia.org/wiki/Премия_«Оскар»_за_лучшую_женскую_роль'\n",
    "import requests\n",
    "response = requests.get(url)\n",
    "response"
   ]
  },
  {
   "cell_type": "code",
   "execution_count": 50,
   "metadata": {},
   "outputs": [],
   "source": [
    "pd_tabs = pd.read_html(response.text)"
   ]
  },
  {
   "cell_type": "code",
   "execution_count": 51,
   "metadata": {},
   "outputs": [
    {
     "data": {
      "text/plain": [
       "list"
      ]
     },
     "execution_count": 51,
     "metadata": {},
     "output_type": "execute_result"
    }
   ],
   "source": [
    "type(pd_tabs)"
   ]
  },
  {
   "cell_type": "code",
   "execution_count": 52,
   "metadata": {},
   "outputs": [
    {
     "data": {
      "text/plain": [
       "pandas.core.frame.DataFrame"
      ]
     },
     "execution_count": 52,
     "metadata": {},
     "output_type": "execute_result"
    }
   ],
   "source": [
    "type(pd_tabs[2])"
   ]
  },
  {
   "cell_type": "code",
   "execution_count": 61,
   "metadata": {},
   "outputs": [
    {
     "name": "stdout",
     "output_type": "stream",
     "text": [
      "2 Index(['Церемония', 'Фото лауреата', 'Актриса', 'Фильм(ы)', 'Роль'], dtype='object')\n",
      "3 Index(['Церемония', 'Фото лауреата', 'Актриса', 'Фильм', 'Роль'], dtype='object')\n",
      "4 Index(['Церемония', 'Фото лауреата', 'Актриса', 'Фильм', 'Роль'], dtype='object')\n",
      "5 Index(['Церемония', 'Фото лауреата', 'Актриса', 'Фильм', 'Роль'], dtype='object')\n",
      "6 Index(['Церемония', 'Фото лауреата', 'Актриса', 'Фильм', 'Роль', 'Роль.1'], dtype='object')\n",
      "7 Index(['Церемония', 'Фото лауреата', 'Актриса', 'Фильм', 'Роль'], dtype='object')\n",
      "8 Index(['Церемония', 'Фото лауреата', 'Актриса', 'Фильм', 'Роль'], dtype='object')\n",
      "9 Index(['Церемония', 'Фото лауреата', 'Актриса', 'Фильм', 'Роль'], dtype='object')\n",
      "10 Index(['Церемония', 'Фото лауреата', 'Актриса', 'Фильм', 'Роль'], dtype='object')\n",
      "11 Index(['Церемония', 'Фото лауреата', 'Актриса', 'Фильм', 'Роль'], dtype='object')\n"
     ]
    }
   ],
   "source": [
    "oscars = []\n",
    "for i in range(2, 12):\n",
    "    print(str(i), pd_tabs[i].columns)"
   ]
  },
  {
   "cell_type": "code",
   "execution_count": 82,
   "metadata": {},
   "outputs": [
    {
     "data": {
      "text/html": [
       "<div>\n",
       "<style scoped>\n",
       "    .dataframe tbody tr th:only-of-type {\n",
       "        vertical-align: middle;\n",
       "    }\n",
       "\n",
       "    .dataframe tbody tr th {\n",
       "        vertical-align: top;\n",
       "    }\n",
       "\n",
       "    .dataframe thead th {\n",
       "        text-align: right;\n",
       "    }\n",
       "</style>\n",
       "<table border=\"1\" class=\"dataframe\">\n",
       "  <thead>\n",
       "    <tr style=\"text-align: right;\">\n",
       "      <th></th>\n",
       "      <th>Церемония</th>\n",
       "      <th>Фото лауреата</th>\n",
       "      <th>Актриса</th>\n",
       "      <th>Фильм</th>\n",
       "      <th>Роль</th>\n",
       "    </tr>\n",
       "  </thead>\n",
       "  <tbody>\n",
       "    <tr>\n",
       "      <th>0</th>\n",
       "      <td>33-я (1961)</td>\n",
       "      <td>NaN</td>\n",
       "      <td>• Элизабет Тейлор</td>\n",
       "      <td>«Баттерфилд, 8»</td>\n",
       "      <td>Глория Вэндроуз</td>\n",
       "    </tr>\n",
       "    <tr>\n",
       "      <th>1</th>\n",
       "      <td>33-я (1961)</td>\n",
       "      <td>NaN</td>\n",
       "      <td>• Грир Гарсон</td>\n",
       "      <td>«Восход солнца в Кампобелло»</td>\n",
       "      <td>Элеонора Рузвельт</td>\n",
       "    </tr>\n",
       "    <tr>\n",
       "      <th>2</th>\n",
       "      <td>33-я (1961)</td>\n",
       "      <td>NaN</td>\n",
       "      <td>• Дебора Керр</td>\n",
       "      <td>«Бродяги»</td>\n",
       "      <td>Ида Кармоди</td>\n",
       "    </tr>\n",
       "    <tr>\n",
       "      <th>3</th>\n",
       "      <td>33-я (1961)</td>\n",
       "      <td>NaN</td>\n",
       "      <td>• Ширли Маклейн</td>\n",
       "      <td>«Квартира»</td>\n",
       "      <td>Фрэн Кубелик</td>\n",
       "    </tr>\n",
       "    <tr>\n",
       "      <th>4</th>\n",
       "      <td>33-я (1961)</td>\n",
       "      <td>NaN</td>\n",
       "      <td>• Мелина Меркури</td>\n",
       "      <td>«Никогда в воскресенье»</td>\n",
       "      <td>Илия</td>\n",
       "    </tr>\n",
       "  </tbody>\n",
       "</table>\n",
       "</div>"
      ],
      "text/plain": [
       "     Церемония  Фото лауреата            Актриса  \\\n",
       "0  33-я (1961)            NaN  • Элизабет Тейлор   \n",
       "1  33-я (1961)            NaN      • Грир Гарсон   \n",
       "2  33-я (1961)            NaN      • Дебора Керр   \n",
       "3  33-я (1961)            NaN    • Ширли Маклейн   \n",
       "4  33-я (1961)            NaN   • Мелина Меркури   \n",
       "\n",
       "                          Фильм               Роль  \n",
       "0               «Баттерфилд, 8»    Глория Вэндроуз  \n",
       "1  «Восход солнца в Кампобелло»  Элеонора Рузвельт  \n",
       "2                     «Бродяги»        Ида Кармоди  \n",
       "3                    «Квартира»       Фрэн Кубелик  \n",
       "4       «Никогда в воскресенье»               Илия  "
      ]
     },
     "execution_count": 82,
     "metadata": {},
     "output_type": "execute_result"
    }
   ],
   "source": [
    "pd_tabs[6].head()"
   ]
  },
  {
   "cell_type": "code",
   "execution_count": 67,
   "metadata": {},
   "outputs": [],
   "source": [
    "pd_tabs[6] = pd_tabs[6].drop('Роль.1', axis=1)"
   ]
  },
  {
   "cell_type": "code",
   "execution_count": 80,
   "metadata": {},
   "outputs": [],
   "source": [
    "pd_tabs[2].rename(columns={'Фильм(ы)': 'Фильм'}, inplace=True)"
   ]
  },
  {
   "cell_type": "code",
   "execution_count": 81,
   "metadata": {},
   "outputs": [
    {
     "data": {
      "text/html": [
       "<div>\n",
       "<style scoped>\n",
       "    .dataframe tbody tr th:only-of-type {\n",
       "        vertical-align: middle;\n",
       "    }\n",
       "\n",
       "    .dataframe tbody tr th {\n",
       "        vertical-align: top;\n",
       "    }\n",
       "\n",
       "    .dataframe thead th {\n",
       "        text-align: right;\n",
       "    }\n",
       "</style>\n",
       "<table border=\"1\" class=\"dataframe\">\n",
       "  <thead>\n",
       "    <tr style=\"text-align: right;\">\n",
       "      <th></th>\n",
       "      <th>Церемония</th>\n",
       "      <th>Фото лауреата</th>\n",
       "      <th>Актриса</th>\n",
       "      <th>Фильм</th>\n",
       "      <th>Роль</th>\n",
       "    </tr>\n",
       "  </thead>\n",
       "  <tbody>\n",
       "    <tr>\n",
       "      <th>0</th>\n",
       "      <td>1-я (1929)</td>\n",
       "      <td>NaN</td>\n",
       "      <td>• Джанет Гейнор</td>\n",
       "      <td>«Седьмое небо»</td>\n",
       "      <td>Дайана</td>\n",
       "    </tr>\n",
       "    <tr>\n",
       "      <th>1</th>\n",
       "      <td>1-я (1929)</td>\n",
       "      <td>NaN</td>\n",
       "      <td>• Джанет Гейнор</td>\n",
       "      <td>«Уличный ангел»</td>\n",
       "      <td>Анджела</td>\n",
       "    </tr>\n",
       "    <tr>\n",
       "      <th>2</th>\n",
       "      <td>1-я (1929)</td>\n",
       "      <td>NaN</td>\n",
       "      <td>• Джанет Гейнор</td>\n",
       "      <td>«Восход солнца»</td>\n",
       "      <td>жена</td>\n",
       "    </tr>\n",
       "    <tr>\n",
       "      <th>3</th>\n",
       "      <td>1-я (1929)</td>\n",
       "      <td>NaN</td>\n",
       "      <td>• Луиза Дрессер</td>\n",
       "      <td>«Корабль приплывает»</td>\n",
       "      <td>миссис Плезник</td>\n",
       "    </tr>\n",
       "    <tr>\n",
       "      <th>4</th>\n",
       "      <td>1-я (1929)</td>\n",
       "      <td>NaN</td>\n",
       "      <td>• Глория Свенсон</td>\n",
       "      <td>«Сэди Томпсон»</td>\n",
       "      <td>Сэди Томпсон</td>\n",
       "    </tr>\n",
       "    <tr>\n",
       "      <th>5</th>\n",
       "      <td>2-я (1930-I)</td>\n",
       "      <td>NaN</td>\n",
       "      <td>• Мэри Пикфорд</td>\n",
       "      <td>«Кокетка»</td>\n",
       "      <td>Норма Безант</td>\n",
       "    </tr>\n",
       "    <tr>\n",
       "      <th>6</th>\n",
       "      <td>2-я (1930-I)</td>\n",
       "      <td>NaN</td>\n",
       "      <td>• Рут Чаттертон</td>\n",
       "      <td>«Мадам Икс»</td>\n",
       "      <td>Жаклин Флорио</td>\n",
       "    </tr>\n",
       "    <tr>\n",
       "      <th>7</th>\n",
       "      <td>2-я (1930-I)</td>\n",
       "      <td>NaN</td>\n",
       "      <td>• Бетти Компсон</td>\n",
       "      <td>«Зазывала»</td>\n",
       "      <td>Кэрри</td>\n",
       "    </tr>\n",
       "    <tr>\n",
       "      <th>8</th>\n",
       "      <td>2-я (1930-I)</td>\n",
       "      <td>NaN</td>\n",
       "      <td>• Джинн Иглс (посмертно)</td>\n",
       "      <td>«Письмо»</td>\n",
       "      <td>Лесли Кросби</td>\n",
       "    </tr>\n",
       "    <tr>\n",
       "      <th>9</th>\n",
       "      <td>2-я (1930-I)</td>\n",
       "      <td>NaN</td>\n",
       "      <td>• Коринна Гриффит</td>\n",
       "      <td>«Божественная леди»</td>\n",
       "      <td>леди Эмма Гамильтон</td>\n",
       "    </tr>\n",
       "    <tr>\n",
       "      <th>10</th>\n",
       "      <td>2-я (1930-I)</td>\n",
       "      <td>NaN</td>\n",
       "      <td>• Бесси Лав</td>\n",
       "      <td>«Бродвейская мелодия»</td>\n",
       "      <td>Хэнк Махони</td>\n",
       "    </tr>\n",
       "    <tr>\n",
       "      <th>11</th>\n",
       "      <td>3-я (1930-II)</td>\n",
       "      <td>NaN</td>\n",
       "      <td>• Норма Ширер</td>\n",
       "      <td>«Развод»</td>\n",
       "      <td>Джерри Бернард Мартин</td>\n",
       "    </tr>\n",
       "    <tr>\n",
       "      <th>12</th>\n",
       "      <td>3-я (1930-II)</td>\n",
       "      <td>NaN</td>\n",
       "      <td>• Нэнси Кэрролл</td>\n",
       "      <td>«Торжество дьявола»</td>\n",
       "      <td>Хэлли Хобарт</td>\n",
       "    </tr>\n",
       "    <tr>\n",
       "      <th>13</th>\n",
       "      <td>3-я (1930-II)</td>\n",
       "      <td>NaN</td>\n",
       "      <td>• Рут Чаттертон</td>\n",
       "      <td>«Сара и сын»</td>\n",
       "      <td>Сара Сторм</td>\n",
       "    </tr>\n",
       "    <tr>\n",
       "      <th>14</th>\n",
       "      <td>3-я (1930-II)</td>\n",
       "      <td>NaN</td>\n",
       "      <td>• Грета Гарбо</td>\n",
       "      <td>«Анна Кристи»</td>\n",
       "      <td>Анна Кристи</td>\n",
       "    </tr>\n",
       "    <tr>\n",
       "      <th>15</th>\n",
       "      <td>3-я (1930-II)</td>\n",
       "      <td>NaN</td>\n",
       "      <td>• Грета Гарбо</td>\n",
       "      <td>«Роман»</td>\n",
       "      <td>Рита Каваллини</td>\n",
       "    </tr>\n",
       "    <tr>\n",
       "      <th>16</th>\n",
       "      <td>3-я (1930-II)</td>\n",
       "      <td>NaN</td>\n",
       "      <td>• Норма Ширер</td>\n",
       "      <td>«Их собственное желание»</td>\n",
       "      <td>Люсия «Лалли» Марлетт</td>\n",
       "    </tr>\n",
       "    <tr>\n",
       "      <th>17</th>\n",
       "      <td>3-я (1930-II)</td>\n",
       "      <td>NaN</td>\n",
       "      <td>• Глория Свенсон</td>\n",
       "      <td>«Правонарушительница»</td>\n",
       "      <td>Марион Доннелл</td>\n",
       "    </tr>\n",
       "  </tbody>\n",
       "</table>\n",
       "</div>"
      ],
      "text/plain": [
       "        Церемония  Фото лауреата                   Актриса  \\\n",
       "0      1-я (1929)            NaN           • Джанет Гейнор   \n",
       "1      1-я (1929)            NaN           • Джанет Гейнор   \n",
       "2      1-я (1929)            NaN           • Джанет Гейнор   \n",
       "3      1-я (1929)            NaN           • Луиза Дрессер   \n",
       "4      1-я (1929)            NaN          • Глория Свенсон   \n",
       "5    2-я (1930-I)            NaN            • Мэри Пикфорд   \n",
       "6    2-я (1930-I)            NaN           • Рут Чаттертон   \n",
       "7    2-я (1930-I)            NaN           • Бетти Компсон   \n",
       "8    2-я (1930-I)            NaN  • Джинн Иглс (посмертно)   \n",
       "9    2-я (1930-I)            NaN         • Коринна Гриффит   \n",
       "10   2-я (1930-I)            NaN               • Бесси Лав   \n",
       "11  3-я (1930-II)            NaN             • Норма Ширер   \n",
       "12  3-я (1930-II)            NaN           • Нэнси Кэрролл   \n",
       "13  3-я (1930-II)            NaN           • Рут Чаттертон   \n",
       "14  3-я (1930-II)            NaN             • Грета Гарбо   \n",
       "15  3-я (1930-II)            NaN             • Грета Гарбо   \n",
       "16  3-я (1930-II)            NaN             • Норма Ширер   \n",
       "17  3-я (1930-II)            NaN          • Глория Свенсон   \n",
       "\n",
       "                       Фильм                   Роль  \n",
       "0             «Седьмое небо»                 Дайана  \n",
       "1            «Уличный ангел»                Анджела  \n",
       "2            «Восход солнца»                   жена  \n",
       "3       «Корабль приплывает»         миссис Плезник  \n",
       "4             «Сэди Томпсон»           Сэди Томпсон  \n",
       "5                  «Кокетка»           Норма Безант  \n",
       "6                «Мадам Икс»          Жаклин Флорио  \n",
       "7                 «Зазывала»                  Кэрри  \n",
       "8                   «Письмо»           Лесли Кросби  \n",
       "9        «Божественная леди»    леди Эмма Гамильтон  \n",
       "10     «Бродвейская мелодия»            Хэнк Махони  \n",
       "11                  «Развод»  Джерри Бернард Мартин  \n",
       "12       «Торжество дьявола»           Хэлли Хобарт  \n",
       "13              «Сара и сын»             Сара Сторм  \n",
       "14             «Анна Кристи»            Анна Кристи  \n",
       "15                   «Роман»         Рита Каваллини  \n",
       "16  «Их собственное желание»  Люсия «Лалли» Марлетт  \n",
       "17     «Правонарушительница»         Марион Доннелл  "
      ]
     },
     "execution_count": 81,
     "metadata": {},
     "output_type": "execute_result"
    }
   ],
   "source": [
    "pd_tabs[2].head()"
   ]
  },
  {
   "cell_type": "code",
   "execution_count": 83,
   "metadata": {},
   "outputs": [],
   "source": [
    "oscars = []\n",
    "for i in range(2, 12):\n",
    "    oscars.append(pd_tabs[i])"
   ]
  },
  {
   "cell_type": "code",
   "execution_count": 84,
   "metadata": {},
   "outputs": [],
   "source": [
    "oscars = pd.concat(oscars)"
   ]
  },
  {
   "cell_type": "code",
   "execution_count": 85,
   "metadata": {},
   "outputs": [
    {
     "data": {
      "text/html": [
       "<div>\n",
       "<style scoped>\n",
       "    .dataframe tbody tr th:only-of-type {\n",
       "        vertical-align: middle;\n",
       "    }\n",
       "\n",
       "    .dataframe tbody tr th {\n",
       "        vertical-align: top;\n",
       "    }\n",
       "\n",
       "    .dataframe thead th {\n",
       "        text-align: right;\n",
       "    }\n",
       "</style>\n",
       "<table border=\"1\" class=\"dataframe\">\n",
       "  <thead>\n",
       "    <tr style=\"text-align: right;\">\n",
       "      <th></th>\n",
       "      <th>Церемония</th>\n",
       "      <th>Фото лауреата</th>\n",
       "      <th>Актриса</th>\n",
       "      <th>Фильм</th>\n",
       "      <th>Роль</th>\n",
       "    </tr>\n",
       "  </thead>\n",
       "  <tbody>\n",
       "    <tr>\n",
       "      <th>0</th>\n",
       "      <td>1-я (1929)</td>\n",
       "      <td>NaN</td>\n",
       "      <td>• Джанет Гейнор</td>\n",
       "      <td>«Седьмое небо»</td>\n",
       "      <td>Дайана</td>\n",
       "    </tr>\n",
       "    <tr>\n",
       "      <th>1</th>\n",
       "      <td>1-я (1929)</td>\n",
       "      <td>NaN</td>\n",
       "      <td>• Джанет Гейнор</td>\n",
       "      <td>«Уличный ангел»</td>\n",
       "      <td>Анджела</td>\n",
       "    </tr>\n",
       "    <tr>\n",
       "      <th>2</th>\n",
       "      <td>1-я (1929)</td>\n",
       "      <td>NaN</td>\n",
       "      <td>• Джанет Гейнор</td>\n",
       "      <td>«Восход солнца»</td>\n",
       "      <td>жена</td>\n",
       "    </tr>\n",
       "    <tr>\n",
       "      <th>3</th>\n",
       "      <td>1-я (1929)</td>\n",
       "      <td>NaN</td>\n",
       "      <td>• Луиза Дрессер</td>\n",
       "      <td>«Корабль приплывает»</td>\n",
       "      <td>миссис Плезник</td>\n",
       "    </tr>\n",
       "    <tr>\n",
       "      <th>4</th>\n",
       "      <td>1-я (1929)</td>\n",
       "      <td>NaN</td>\n",
       "      <td>• Глория Свенсон</td>\n",
       "      <td>«Сэди Томпсон»</td>\n",
       "      <td>Сэди Томпсон</td>\n",
       "    </tr>\n",
       "    <tr>\n",
       "      <th>...</th>\n",
       "      <td>...</td>\n",
       "      <td>...</td>\n",
       "      <td>...</td>\n",
       "      <td>...</td>\n",
       "      <td>...</td>\n",
       "    </tr>\n",
       "    <tr>\n",
       "      <th>45</th>\n",
       "      <td>92-я (2020)</td>\n",
       "      <td>NaN</td>\n",
       "      <td>• Рене Зеллвегер</td>\n",
       "      <td>«Джуди»</td>\n",
       "      <td>Джуди Гарленд</td>\n",
       "    </tr>\n",
       "    <tr>\n",
       "      <th>46</th>\n",
       "      <td>92-я (2020)</td>\n",
       "      <td>NaN</td>\n",
       "      <td>• Синтия Эриво</td>\n",
       "      <td>«Гарриет»</td>\n",
       "      <td>Гарриет Табмен</td>\n",
       "    </tr>\n",
       "    <tr>\n",
       "      <th>47</th>\n",
       "      <td>92-я (2020)</td>\n",
       "      <td>NaN</td>\n",
       "      <td>• Скарлетт Йоханссон</td>\n",
       "      <td>«Брачная история»</td>\n",
       "      <td>Николь Барбер</td>\n",
       "    </tr>\n",
       "    <tr>\n",
       "      <th>48</th>\n",
       "      <td>92-я (2020)</td>\n",
       "      <td>NaN</td>\n",
       "      <td>• Сирша Ронан</td>\n",
       "      <td>«Маленькие женщины»</td>\n",
       "      <td>Джозефина «Джо» Марч</td>\n",
       "    </tr>\n",
       "    <tr>\n",
       "      <th>49</th>\n",
       "      <td>92-я (2020)</td>\n",
       "      <td>NaN</td>\n",
       "      <td>• Шарлиз Терон</td>\n",
       "      <td>«Скандал»</td>\n",
       "      <td>Мегин Келли</td>\n",
       "    </tr>\n",
       "  </tbody>\n",
       "</table>\n",
       "<p>459 rows × 5 columns</p>\n",
       "</div>"
      ],
      "text/plain": [
       "      Церемония  Фото лауреата               Актриса                 Фильм  \\\n",
       "0    1-я (1929)            NaN       • Джанет Гейнор        «Седьмое небо»   \n",
       "1    1-я (1929)            NaN       • Джанет Гейнор       «Уличный ангел»   \n",
       "2    1-я (1929)            NaN       • Джанет Гейнор       «Восход солнца»   \n",
       "3    1-я (1929)            NaN       • Луиза Дрессер  «Корабль приплывает»   \n",
       "4    1-я (1929)            NaN      • Глория Свенсон        «Сэди Томпсон»   \n",
       "..          ...            ...                   ...                   ...   \n",
       "45  92-я (2020)            NaN      • Рене Зеллвегер               «Джуди»   \n",
       "46  92-я (2020)            NaN        • Синтия Эриво             «Гарриет»   \n",
       "47  92-я (2020)            NaN  • Скарлетт Йоханссон     «Брачная история»   \n",
       "48  92-я (2020)            NaN         • Сирша Ронан   «Маленькие женщины»   \n",
       "49  92-я (2020)            NaN        • Шарлиз Терон             «Скандал»   \n",
       "\n",
       "                    Роль  \n",
       "0                 Дайана  \n",
       "1                Анджела  \n",
       "2                   жена  \n",
       "3         миссис Плезник  \n",
       "4           Сэди Томпсон  \n",
       "..                   ...  \n",
       "45         Джуди Гарленд  \n",
       "46        Гарриет Табмен  \n",
       "47         Николь Барбер  \n",
       "48  Джозефина «Джо» Марч  \n",
       "49           Мегин Келли  \n",
       "\n",
       "[459 rows x 5 columns]"
      ]
     },
     "execution_count": 85,
     "metadata": {},
     "output_type": "execute_result"
    }
   ],
   "source": [
    "oscars"
   ]
  },
  {
   "cell_type": "code",
   "execution_count": 86,
   "metadata": {},
   "outputs": [],
   "source": [
    "oscars = oscars.drop('Фото лауреата', axis=1)"
   ]
  },
  {
   "cell_type": "code",
   "execution_count": 87,
   "metadata": {},
   "outputs": [
    {
     "data": {
      "text/plain": [
       "0          • Джанет Гейнор\n",
       "1          • Джанет Гейнор\n",
       "2          • Джанет Гейнор\n",
       "3          • Луиза Дрессер\n",
       "4         • Глория Свенсон\n",
       "              ...         \n",
       "45        • Рене Зеллвегер\n",
       "46          • Синтия Эриво\n",
       "47    • Скарлетт Йоханссон\n",
       "48           • Сирша Ронан\n",
       "49          • Шарлиз Терон\n",
       "Name: Актриса, Length: 459, dtype: object"
      ]
     },
     "execution_count": 87,
     "metadata": {},
     "output_type": "execute_result"
    }
   ],
   "source": [
    "oscars['Актриса']"
   ]
  },
  {
   "cell_type": "code",
   "execution_count": 88,
   "metadata": {},
   "outputs": [],
   "source": [
    "def drop_dot(s):\n",
    "    return s.replace('• ', '')"
   ]
  },
  {
   "cell_type": "code",
   "execution_count": 89,
   "metadata": {},
   "outputs": [
    {
     "data": {
      "text/plain": [
       "0          Джанет Гейнор\n",
       "1          Джанет Гейнор\n",
       "2          Джанет Гейнор\n",
       "3          Луиза Дрессер\n",
       "4         Глория Свенсон\n",
       "             ...        \n",
       "45        Рене Зеллвегер\n",
       "46          Синтия Эриво\n",
       "47    Скарлетт Йоханссон\n",
       "48           Сирша Ронан\n",
       "49          Шарлиз Терон\n",
       "Name: Актриса, Length: 459, dtype: object"
      ]
     },
     "execution_count": 89,
     "metadata": {},
     "output_type": "execute_result"
    }
   ],
   "source": [
    "oscars['Актриса'] = oscars['Актриса'].apply(drop_dot)\n",
    "oscars['Актриса']"
   ]
  },
  {
   "cell_type": "code",
   "execution_count": 113,
   "metadata": {},
   "outputs": [
    {
     "data": {
      "text/plain": [
       "Мерил Стрип       17\n",
       "Кэтрин Хепбёрн    12\n",
       "Бетт Дейвис       11\n",
       "Грир Гарсон        7\n",
       "Джейн Фонда        6\n",
       "                  ..\n",
       "Джуди Гарленд      1\n",
       "Сара Майлз         1\n",
       "Хелен Хант         1\n",
       "Сальма Хайек       1\n",
       "Пенелопа Крус      1\n",
       "Name: Актриса, Length: 230, dtype: int64"
      ]
     },
     "execution_count": 113,
     "metadata": {},
     "output_type": "execute_result"
    }
   ],
   "source": [
    "numnoms = oscars['Актриса'].value_counts()\n",
    "numnoms"
   ]
  },
  {
   "cell_type": "code",
   "execution_count": 117,
   "metadata": {},
   "outputs": [
    {
     "data": {
      "text/html": [
       "<div>\n",
       "<style scoped>\n",
       "    .dataframe tbody tr th:only-of-type {\n",
       "        vertical-align: middle;\n",
       "    }\n",
       "\n",
       "    .dataframe tbody tr th {\n",
       "        vertical-align: top;\n",
       "    }\n",
       "\n",
       "    .dataframe thead th {\n",
       "        text-align: right;\n",
       "    }\n",
       "</style>\n",
       "<table border=\"1\" class=\"dataframe\">\n",
       "  <thead>\n",
       "    <tr style=\"text-align: right;\">\n",
       "      <th></th>\n",
       "      <th>Актриса</th>\n",
       "      <th>Кол-во номинаций</th>\n",
       "    </tr>\n",
       "  </thead>\n",
       "  <tbody>\n",
       "    <tr>\n",
       "      <th>0</th>\n",
       "      <td>Мерил Стрип</td>\n",
       "      <td>17</td>\n",
       "    </tr>\n",
       "    <tr>\n",
       "      <th>1</th>\n",
       "      <td>Кэтрин Хепбёрн</td>\n",
       "      <td>12</td>\n",
       "    </tr>\n",
       "    <tr>\n",
       "      <th>2</th>\n",
       "      <td>Бетт Дейвис</td>\n",
       "      <td>11</td>\n",
       "    </tr>\n",
       "    <tr>\n",
       "      <th>3</th>\n",
       "      <td>Грир Гарсон</td>\n",
       "      <td>7</td>\n",
       "    </tr>\n",
       "    <tr>\n",
       "      <th>4</th>\n",
       "      <td>Джейн Фонда</td>\n",
       "      <td>6</td>\n",
       "    </tr>\n",
       "    <tr>\n",
       "      <th>...</th>\n",
       "      <td>...</td>\n",
       "      <td>...</td>\n",
       "    </tr>\n",
       "    <tr>\n",
       "      <th>225</th>\n",
       "      <td>Джуди Гарленд</td>\n",
       "      <td>1</td>\n",
       "    </tr>\n",
       "    <tr>\n",
       "      <th>226</th>\n",
       "      <td>Сара Майлз</td>\n",
       "      <td>1</td>\n",
       "    </tr>\n",
       "    <tr>\n",
       "      <th>227</th>\n",
       "      <td>Хелен Хант</td>\n",
       "      <td>1</td>\n",
       "    </tr>\n",
       "    <tr>\n",
       "      <th>228</th>\n",
       "      <td>Сальма Хайек</td>\n",
       "      <td>1</td>\n",
       "    </tr>\n",
       "    <tr>\n",
       "      <th>229</th>\n",
       "      <td>Пенелопа Крус</td>\n",
       "      <td>1</td>\n",
       "    </tr>\n",
       "  </tbody>\n",
       "</table>\n",
       "<p>230 rows × 2 columns</p>\n",
       "</div>"
      ],
      "text/plain": [
       "            Актриса  Кол-во номинаций\n",
       "0       Мерил Стрип                17\n",
       "1    Кэтрин Хепбёрн                12\n",
       "2       Бетт Дейвис                11\n",
       "3       Грир Гарсон                 7\n",
       "4       Джейн Фонда                 6\n",
       "..              ...               ...\n",
       "225   Джуди Гарленд                 1\n",
       "226      Сара Майлз                 1\n",
       "227      Хелен Хант                 1\n",
       "228    Сальма Хайек                 1\n",
       "229   Пенелопа Крус                 1\n",
       "\n",
       "[230 rows x 2 columns]"
      ]
     },
     "execution_count": 117,
     "metadata": {},
     "output_type": "execute_result"
    }
   ],
   "source": [
    "numnoms = pd.DataFrame({'Актриса': numnoms.index, 'Кол-во номинаций': numnoms.values})\n",
    "numnoms"
   ]
  },
  {
   "cell_type": "code",
   "execution_count": 119,
   "metadata": {},
   "outputs": [
    {
     "name": "stdout",
     "output_type": "stream",
     "text": [
      "Лидер по кол-ву номинаций: Мерил Стрип. Их у неё 17. Это на 5 больше, чем у Кэтрин Хепбёрн, второй по числу номинаций актрисы.\n"
     ]
    }
   ],
   "source": [
    "a1 = numnoms['Актриса'][0]\n",
    "n1 = numnoms['Кол-во номинаций'][0]\n",
    "d1 = numnoms['Кол-во номинаций'][0] - numnoms['Кол-во номинаций'][1]\n",
    "a2 = numnoms['Актриса'][1]\n",
    "print('Лидер по кол-ву номинаций: {}. Их у неё {}. Это на {} больше, чем у {}, второй по числу номинаций актрисы.'.format(a1, n1, d1, a2))"
   ]
  },
  {
   "cell_type": "markdown",
   "metadata": {},
   "source": [
    "### **Задача 3**\n",
    "\n",
    "Дана страница https://www.worldometers.info/world-population/world-population-by-year/\n",
    "\n",
    "На ней представлены данные о росте численности населения Земли. Используя удобные для вас модули Python (Например requests, bs4 и pandas, но можно и любые другие) сгрузить в удобную для вас структуру данных (например pandas-табличку) необходимые данные и нарисовать графики ежегодного прироста городского населения и ежегодного прироста общего населения, начиная с 1951 года. "
   ]
  },
  {
   "cell_type": "code",
   "execution_count": 11,
   "metadata": {},
   "outputs": [],
   "source": [
    "import pandas as pd\n",
    "import requests"
   ]
  },
  {
   "cell_type": "code",
   "execution_count": 17,
   "metadata": {},
   "outputs": [
    {
     "data": {
      "text/plain": [
       "<Response [200]>"
      ]
     },
     "execution_count": 17,
     "metadata": {},
     "output_type": "execute_result"
    }
   ],
   "source": [
    "url = 'https://www.worldometers.info/world-population/world-population-by-year/'\n",
    "import requests\n",
    "response = requests.get(url)\n",
    "response"
   ]
  },
  {
   "cell_type": "code",
   "execution_count": 18,
   "metadata": {},
   "outputs": [],
   "source": [
    "tbl = pd.read_html(response.text)"
   ]
  },
  {
   "cell_type": "code",
   "execution_count": 20,
   "metadata": {},
   "outputs": [],
   "source": [
    "tbl = tbl[0]"
   ]
  },
  {
   "cell_type": "code",
   "execution_count": 21,
   "metadata": {},
   "outputs": [
    {
     "data": {
      "text/html": [
       "<div>\n",
       "<style scoped>\n",
       "    .dataframe tbody tr th:only-of-type {\n",
       "        vertical-align: middle;\n",
       "    }\n",
       "\n",
       "    .dataframe tbody tr th {\n",
       "        vertical-align: top;\n",
       "    }\n",
       "\n",
       "    .dataframe thead th {\n",
       "        text-align: right;\n",
       "    }\n",
       "</style>\n",
       "<table border=\"1\" class=\"dataframe\">\n",
       "  <thead>\n",
       "    <tr style=\"text-align: right;\">\n",
       "      <th></th>\n",
       "      <th>Year</th>\n",
       "      <th>World Population</th>\n",
       "      <th>YearlyChange</th>\n",
       "      <th>NetChange</th>\n",
       "      <th>Density(P/Km²)</th>\n",
       "      <th>UrbanPop</th>\n",
       "      <th>UrbanPop %</th>\n",
       "    </tr>\n",
       "  </thead>\n",
       "  <tbody>\n",
       "    <tr>\n",
       "      <th>0</th>\n",
       "      <td>2020</td>\n",
       "      <td>7794798739</td>\n",
       "      <td>1.05 %</td>\n",
       "      <td>81330639.0</td>\n",
       "      <td>52.0</td>\n",
       "      <td>4.378994e+09</td>\n",
       "      <td>56 %</td>\n",
       "    </tr>\n",
       "    <tr>\n",
       "      <th>1</th>\n",
       "      <td>2019</td>\n",
       "      <td>7713468100</td>\n",
       "      <td>1.08 %</td>\n",
       "      <td>82377060.0</td>\n",
       "      <td>52.0</td>\n",
       "      <td>4.299439e+09</td>\n",
       "      <td>56 %</td>\n",
       "    </tr>\n",
       "    <tr>\n",
       "      <th>2</th>\n",
       "      <td>2018</td>\n",
       "      <td>7631091040</td>\n",
       "      <td>1.10 %</td>\n",
       "      <td>83232115.0</td>\n",
       "      <td>51.0</td>\n",
       "      <td>4.219817e+09</td>\n",
       "      <td>55 %</td>\n",
       "    </tr>\n",
       "    <tr>\n",
       "      <th>3</th>\n",
       "      <td>2017</td>\n",
       "      <td>7547858925</td>\n",
       "      <td>1.12 %</td>\n",
       "      <td>83836876.0</td>\n",
       "      <td>51.0</td>\n",
       "      <td>4.140189e+09</td>\n",
       "      <td>55 %</td>\n",
       "    </tr>\n",
       "    <tr>\n",
       "      <th>4</th>\n",
       "      <td>2016</td>\n",
       "      <td>7464022049</td>\n",
       "      <td>1.14 %</td>\n",
       "      <td>84224910.0</td>\n",
       "      <td>50.0</td>\n",
       "      <td>4.060653e+09</td>\n",
       "      <td>54 %</td>\n",
       "    </tr>\n",
       "    <tr>\n",
       "      <th>...</th>\n",
       "      <td>...</td>\n",
       "      <td>...</td>\n",
       "      <td>...</td>\n",
       "      <td>...</td>\n",
       "      <td>...</td>\n",
       "      <td>...</td>\n",
       "      <td>...</td>\n",
       "    </tr>\n",
       "    <tr>\n",
       "      <th>89</th>\n",
       "      <td>-1000</td>\n",
       "      <td>50000000</td>\n",
       "      <td>NaN</td>\n",
       "      <td>NaN</td>\n",
       "      <td>NaN</td>\n",
       "      <td>NaN</td>\n",
       "      <td>NaN</td>\n",
       "    </tr>\n",
       "    <tr>\n",
       "      <th>90</th>\n",
       "      <td>-2000</td>\n",
       "      <td>27000000</td>\n",
       "      <td>NaN</td>\n",
       "      <td>NaN</td>\n",
       "      <td>NaN</td>\n",
       "      <td>NaN</td>\n",
       "      <td>NaN</td>\n",
       "    </tr>\n",
       "    <tr>\n",
       "      <th>91</th>\n",
       "      <td>-3000</td>\n",
       "      <td>14000000</td>\n",
       "      <td>NaN</td>\n",
       "      <td>NaN</td>\n",
       "      <td>NaN</td>\n",
       "      <td>NaN</td>\n",
       "      <td>NaN</td>\n",
       "    </tr>\n",
       "    <tr>\n",
       "      <th>92</th>\n",
       "      <td>-4000</td>\n",
       "      <td>7000000</td>\n",
       "      <td>NaN</td>\n",
       "      <td>NaN</td>\n",
       "      <td>NaN</td>\n",
       "      <td>NaN</td>\n",
       "      <td>NaN</td>\n",
       "    </tr>\n",
       "    <tr>\n",
       "      <th>93</th>\n",
       "      <td>-5000</td>\n",
       "      <td>5000000</td>\n",
       "      <td>NaN</td>\n",
       "      <td>NaN</td>\n",
       "      <td>NaN</td>\n",
       "      <td>NaN</td>\n",
       "      <td>NaN</td>\n",
       "    </tr>\n",
       "  </tbody>\n",
       "</table>\n",
       "<p>94 rows × 7 columns</p>\n",
       "</div>"
      ],
      "text/plain": [
       "    Year  World Population YearlyChange   NetChange  Density(P/Km²)  \\\n",
       "0   2020        7794798739       1.05 %  81330639.0            52.0   \n",
       "1   2019        7713468100       1.08 %  82377060.0            52.0   \n",
       "2   2018        7631091040       1.10 %  83232115.0            51.0   \n",
       "3   2017        7547858925       1.12 %  83836876.0            51.0   \n",
       "4   2016        7464022049       1.14 %  84224910.0            50.0   \n",
       "..   ...               ...          ...         ...             ...   \n",
       "89 -1000          50000000          NaN         NaN             NaN   \n",
       "90 -2000          27000000          NaN         NaN             NaN   \n",
       "91 -3000          14000000          NaN         NaN             NaN   \n",
       "92 -4000           7000000          NaN         NaN             NaN   \n",
       "93 -5000           5000000          NaN         NaN             NaN   \n",
       "\n",
       "        UrbanPop UrbanPop %  \n",
       "0   4.378994e+09       56 %  \n",
       "1   4.299439e+09       56 %  \n",
       "2   4.219817e+09       55 %  \n",
       "3   4.140189e+09       55 %  \n",
       "4   4.060653e+09       54 %  \n",
       "..           ...        ...  \n",
       "89           NaN        NaN  \n",
       "90           NaN        NaN  \n",
       "91           NaN        NaN  \n",
       "92           NaN        NaN  \n",
       "93           NaN        NaN  \n",
       "\n",
       "[94 rows x 7 columns]"
      ]
     },
     "execution_count": 21,
     "metadata": {},
     "output_type": "execute_result"
    }
   ],
   "source": [
    "tbl"
   ]
  },
  {
   "cell_type": "code",
   "execution_count": 22,
   "metadata": {},
   "outputs": [],
   "source": [
    "tbl = tbl[tbl.Year >= 1951]"
   ]
  },
  {
   "cell_type": "code",
   "execution_count": 23,
   "metadata": {},
   "outputs": [
    {
     "data": {
      "text/html": [
       "<div>\n",
       "<style scoped>\n",
       "    .dataframe tbody tr th:only-of-type {\n",
       "        vertical-align: middle;\n",
       "    }\n",
       "\n",
       "    .dataframe tbody tr th {\n",
       "        vertical-align: top;\n",
       "    }\n",
       "\n",
       "    .dataframe thead th {\n",
       "        text-align: right;\n",
       "    }\n",
       "</style>\n",
       "<table border=\"1\" class=\"dataframe\">\n",
       "  <thead>\n",
       "    <tr style=\"text-align: right;\">\n",
       "      <th></th>\n",
       "      <th>Year</th>\n",
       "      <th>World Population</th>\n",
       "      <th>YearlyChange</th>\n",
       "      <th>NetChange</th>\n",
       "      <th>Density(P/Km²)</th>\n",
       "      <th>UrbanPop</th>\n",
       "      <th>UrbanPop %</th>\n",
       "    </tr>\n",
       "  </thead>\n",
       "  <tbody>\n",
       "    <tr>\n",
       "      <th>0</th>\n",
       "      <td>2020</td>\n",
       "      <td>7794798739</td>\n",
       "      <td>1.05 %</td>\n",
       "      <td>81330639.0</td>\n",
       "      <td>52.0</td>\n",
       "      <td>4.378994e+09</td>\n",
       "      <td>56 %</td>\n",
       "    </tr>\n",
       "    <tr>\n",
       "      <th>1</th>\n",
       "      <td>2019</td>\n",
       "      <td>7713468100</td>\n",
       "      <td>1.08 %</td>\n",
       "      <td>82377060.0</td>\n",
       "      <td>52.0</td>\n",
       "      <td>4.299439e+09</td>\n",
       "      <td>56 %</td>\n",
       "    </tr>\n",
       "    <tr>\n",
       "      <th>2</th>\n",
       "      <td>2018</td>\n",
       "      <td>7631091040</td>\n",
       "      <td>1.10 %</td>\n",
       "      <td>83232115.0</td>\n",
       "      <td>51.0</td>\n",
       "      <td>4.219817e+09</td>\n",
       "      <td>55 %</td>\n",
       "    </tr>\n",
       "    <tr>\n",
       "      <th>3</th>\n",
       "      <td>2017</td>\n",
       "      <td>7547858925</td>\n",
       "      <td>1.12 %</td>\n",
       "      <td>83836876.0</td>\n",
       "      <td>51.0</td>\n",
       "      <td>4.140189e+09</td>\n",
       "      <td>55 %</td>\n",
       "    </tr>\n",
       "    <tr>\n",
       "      <th>4</th>\n",
       "      <td>2016</td>\n",
       "      <td>7464022049</td>\n",
       "      <td>1.14 %</td>\n",
       "      <td>84224910.0</td>\n",
       "      <td>50.0</td>\n",
       "      <td>4.060653e+09</td>\n",
       "      <td>54 %</td>\n",
       "    </tr>\n",
       "    <tr>\n",
       "      <th>...</th>\n",
       "      <td>...</td>\n",
       "      <td>...</td>\n",
       "      <td>...</td>\n",
       "      <td>...</td>\n",
       "      <td>...</td>\n",
       "      <td>...</td>\n",
       "      <td>...</td>\n",
       "    </tr>\n",
       "    <tr>\n",
       "      <th>65</th>\n",
       "      <td>1955</td>\n",
       "      <td>2773019936</td>\n",
       "      <td>1.77 %</td>\n",
       "      <td>48173195.0</td>\n",
       "      <td>19.0</td>\n",
       "      <td>8.770088e+08</td>\n",
       "      <td>32 %</td>\n",
       "    </tr>\n",
       "    <tr>\n",
       "      <th>66</th>\n",
       "      <td>1954</td>\n",
       "      <td>2724846741</td>\n",
       "      <td>1.76 %</td>\n",
       "      <td>47237781.0</td>\n",
       "      <td>18.0</td>\n",
       "      <td>8.501791e+08</td>\n",
       "      <td>31 %</td>\n",
       "    </tr>\n",
       "    <tr>\n",
       "      <th>67</th>\n",
       "      <td>1953</td>\n",
       "      <td>2677608960</td>\n",
       "      <td>1.78 %</td>\n",
       "      <td>46747398.0</td>\n",
       "      <td>18.0</td>\n",
       "      <td>8.242900e+08</td>\n",
       "      <td>31 %</td>\n",
       "    </tr>\n",
       "    <tr>\n",
       "      <th>68</th>\n",
       "      <td>1952</td>\n",
       "      <td>2630861562</td>\n",
       "      <td>1.81 %</td>\n",
       "      <td>46827301.0</td>\n",
       "      <td>18.0</td>\n",
       "      <td>7.992825e+08</td>\n",
       "      <td>30 %</td>\n",
       "    </tr>\n",
       "    <tr>\n",
       "      <th>69</th>\n",
       "      <td>1951</td>\n",
       "      <td>2584034261</td>\n",
       "      <td>1.88 %</td>\n",
       "      <td>47603112.0</td>\n",
       "      <td>17.0</td>\n",
       "      <td>7.750677e+08</td>\n",
       "      <td>30 %</td>\n",
       "    </tr>\n",
       "  </tbody>\n",
       "</table>\n",
       "<p>70 rows × 7 columns</p>\n",
       "</div>"
      ],
      "text/plain": [
       "    Year  World Population YearlyChange   NetChange  Density(P/Km²)  \\\n",
       "0   2020        7794798739       1.05 %  81330639.0            52.0   \n",
       "1   2019        7713468100       1.08 %  82377060.0            52.0   \n",
       "2   2018        7631091040       1.10 %  83232115.0            51.0   \n",
       "3   2017        7547858925       1.12 %  83836876.0            51.0   \n",
       "4   2016        7464022049       1.14 %  84224910.0            50.0   \n",
       "..   ...               ...          ...         ...             ...   \n",
       "65  1955        2773019936       1.77 %  48173195.0            19.0   \n",
       "66  1954        2724846741       1.76 %  47237781.0            18.0   \n",
       "67  1953        2677608960       1.78 %  46747398.0            18.0   \n",
       "68  1952        2630861562       1.81 %  46827301.0            18.0   \n",
       "69  1951        2584034261       1.88 %  47603112.0            17.0   \n",
       "\n",
       "        UrbanPop UrbanPop %  \n",
       "0   4.378994e+09       56 %  \n",
       "1   4.299439e+09       56 %  \n",
       "2   4.219817e+09       55 %  \n",
       "3   4.140189e+09       55 %  \n",
       "4   4.060653e+09       54 %  \n",
       "..           ...        ...  \n",
       "65  8.770088e+08       32 %  \n",
       "66  8.501791e+08       31 %  \n",
       "67  8.242900e+08       31 %  \n",
       "68  7.992825e+08       30 %  \n",
       "69  7.750677e+08       30 %  \n",
       "\n",
       "[70 rows x 7 columns]"
      ]
     },
     "execution_count": 23,
     "metadata": {},
     "output_type": "execute_result"
    }
   ],
   "source": [
    "tbl"
   ]
  },
  {
   "cell_type": "code",
   "execution_count": 26,
   "metadata": {},
   "outputs": [
    {
     "data": {
      "image/png": "[encoded data removed]",
      "text/plain": [
       "<Figure size 432x288 with 1 Axes>"
      ]
     },
     "metadata": {
      "needs_background": "light"
     },
     "output_type": "display_data"
    }
   ],
   "source": [
    "plt = tbl.plot(x='Year', y='NetChange', title='World Population Net Yearly Change')"
   ]
  },
  {
   "cell_type": "code",
   "execution_count": 29,
   "metadata": {},
   "outputs": [],
   "source": [
    "def pct_to_num(x):\n",
    "    return float(x.split()[0])"
   ]
  },
  {
   "cell_type": "code",
   "execution_count": 31,
   "metadata": {},
   "outputs": [
    {
     "name": "stderr",
     "output_type": "stream",
     "text": [
      "<ipython-input-31-d4a7d9e67118>:1: SettingWithCopyWarning: \n",
      "A value is trying to be set on a copy of a slice from a DataFrame.\n",
      "Try using .loc[row_indexer,col_indexer] = value instead\n",
      "\n",
      "See the caveats in the documentation: https://pandas.pydata.org/pandas-docs/stable/user_guide/indexing.html#returning-a-view-versus-a-copy\n",
      "  tbl['YearlyChange'] = tbl['YearlyChange'].apply(pct_to_num)\n"
     ]
    }
   ],
   "source": [
    "tbl['YearlyChange'] = tbl['YearlyChange'].apply(pct_to_num)"
   ]
  },
  {
   "cell_type": "code",
   "execution_count": 33,
   "metadata": {},
   "outputs": [
    {
     "data": {
      "image/png": "[encoded data removed]",
      "text/plain": [
       "<Figure size 432x288 with 1 Axes>"
      ]
     },
     "metadata": {
      "needs_background": "light"
     },
     "output_type": "display_data"
    }
   ],
   "source": [
    "plt = tbl.plot(x='Year', y='YearlyChange', title='World Population Yearly Change, %')"
   ]
  },
  {
   "cell_type": "code",
   "execution_count": 34,
   "metadata": {},
   "outputs": [
    {
     "name": "stderr",
     "output_type": "stream",
     "text": [
      "<ipython-input-34-3cfb02f9c2a0>:1: SettingWithCopyWarning: \n",
      "A value is trying to be set on a copy of a slice from a DataFrame.\n",
      "Try using .loc[row_indexer,col_indexer] = value instead\n",
      "\n",
      "See the caveats in the documentation: https://pandas.pydata.org/pandas-docs/stable/user_guide/indexing.html#returning-a-view-versus-a-copy\n",
      "  tbl['UrbanNetChange'] = tbl['UrbanPop'].diff(periods=-1)\n"
     ]
    }
   ],
   "source": [
    "tbl['UrbanNetChange'] = tbl['UrbanPop'].diff(periods=-1)"
   ]
  },
  {
   "cell_type": "code",
   "execution_count": 36,
   "metadata": {},
   "outputs": [
    {
     "name": "stderr",
     "output_type": "stream",
     "text": [
      "<ipython-input-36-63c0ec6033d1>:1: SettingWithCopyWarning: \n",
      "A value is trying to be set on a copy of a slice from a DataFrame.\n",
      "Try using .loc[row_indexer,col_indexer] = value instead\n",
      "\n",
      "See the caveats in the documentation: https://pandas.pydata.org/pandas-docs/stable/user_guide/indexing.html#returning-a-view-versus-a-copy\n",
      "  tbl['UrbanYearlyChange'] = round(tbl['UrbanNetChange']/tbl['UrbanPop'].shift(-1)*100, 2)\n"
     ]
    }
   ],
   "source": [
    "tbl['UrbanYearlyChange'] = round(tbl['UrbanNetChange']/tbl['UrbanPop'].shift(-1)*100, 2)"
   ]
  },
  {
   "cell_type": "code",
   "execution_count": 38,
   "metadata": {},
   "outputs": [
    {
     "data": {
      "image/png": "[encoded data removed]",
      "text/plain": [
       "<Figure size 432x288 with 1 Axes>"
      ]
     },
     "metadata": {
      "needs_background": "light"
     },
     "output_type": "display_data"
    }
   ],
   "source": [
    "plt = tbl.plot(x='Year', y='UrbanYearlyChange', title='Urban Population Yearly Change, %')"
   ]
  }
 ],
 "metadata": {
  "kernelspec": {
   "display_name": "Python 3 (ipykernel)",
   "language": "python",
   "name": "python3"
  },
  "language_info": {
   "codemirror_mode": {
    "name": "ipython",
    "version": 3
   },
   "file_extension": ".py",
   "mimetype": "text/x-python",
   "name": "python",
   "nbconvert_exporter": "python",
   "pygments_lexer": "ipython3",
   "version": "3.10.1"
  }
 },
 "nbformat": 4,
 "nbformat_minor": 4
}
