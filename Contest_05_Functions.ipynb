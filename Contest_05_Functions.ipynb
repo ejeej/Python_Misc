{
 "cells": [
  {
   "cell_type": "markdown",
   "metadata": {},
   "source": [
    "https://official.contest.yandex.ru/contest/20759/problems/"
   ]
  },
  {
   "cell_type": "markdown",
   "metadata": {},
   "source": [
    "## **A. Минимум 4 чисел**"
   ]
  },
  {
   "cell_type": "markdown",
   "metadata": {},
   "source": [
    "Напишите функцию min4(a, b, c, d), вычисляющую минимум четырех чисел, которая не содержит инструкции if, а использует стандартную функцию min. Считайте четыре целых числа и выведите их минимум.\\\n",
    "*Формат ввода*\\\n",
    "Вводятся четыре целых числа.\\\n",
    "*Формат вывода*\\\n",
    "Выведите ответ на задачу. "
   ]
  },
  {
   "cell_type": "code",
   "execution_count": 5,
   "metadata": {},
   "outputs": [
    {
     "name": "stdin",
     "output_type": "stream",
     "text": [
      " 4\n",
      " 5\n",
      " 6\n",
      " 7\n"
     ]
    },
    {
     "name": "stdout",
     "output_type": "stream",
     "text": [
      "4\n"
     ]
    }
   ],
   "source": [
    "def min4(a,b,c,d):\n",
    "    return min(a,b,c,d)\n",
    "\n",
    "a = int(input())\n",
    "b = int(input())\n",
    "c = int(input())\n",
    "d = int(input())\n",
    "\n",
    "print(min4(a,b,c,d))"
   ]
  },
  {
   "cell_type": "markdown",
   "metadata": {},
   "source": [
    "## **B. Длина отрезка**"
   ]
  },
  {
   "cell_type": "markdown",
   "metadata": {},
   "source": [
    "Даны четыре действительных числа: x1, y1, x2, y2. Напишите функцию distance(x1, y1, x2, y2), вычисляющую расстояние между точкой (x1,y1) и (x2,y2). Считайте четыре действительных числа и выведите результат работы этой функции.\\\n",
    "*Формат ввода*\\\n",
    "Вводятся четыре действительных числа.\\\n",
    "*Формат вывода*\\\n",
    "Выведите ответ на задачу. "
   ]
  },
  {
   "cell_type": "code",
   "execution_count": 9,
   "metadata": {},
   "outputs": [
    {
     "name": "stdin",
     "output_type": "stream",
     "text": [
      " 3\n",
      " -2\n",
      " -1\n",
      " 7\n"
     ]
    },
    {
     "name": "stdout",
     "output_type": "stream",
     "text": [
      "9.848857801796104\n"
     ]
    }
   ],
   "source": [
    "def distance(x1,y1,x2,y2):\n",
    "    d = ((x2 - x1) ** 2 + (y2 - y1) ** 2) ** 0.5\n",
    "    return d\n",
    "\n",
    "x1 = float(input())\n",
    "y1 = float(input())\n",
    "x2 = float(input())\n",
    "y2 = float(input())\n",
    "\n",
    "print(distance(x1,y1,x2,y2))"
   ]
  },
  {
   "cell_type": "markdown",
   "metadata": {},
   "source": [
    "## **C. Периметр треугольника**"
   ]
  },
  {
   "cell_type": "markdown",
   "metadata": {},
   "source": [
    "Напишите функцию, вычисляющую длину отрезка по координатам его концов. С помощью этой функции напишите программу, вычисляющую периметр треугольника по координатам трех его вершин.\\\n",
    "*Формат ввода*\\\n",
    "На вход программе подается 6 целых чисел — координат x1,  y1,  x2,  y2,  x3,  y3 вершин треугольника. Все числа по модулю не превосходят 30 000.\\\n",
    "*Формат вывода*\\\n",
    "Выведите значение периметра этого треугольника с точностью до 6 знаков после десятичной точки. "
   ]
  },
  {
   "cell_type": "code",
   "execution_count": 11,
   "metadata": {},
   "outputs": [
    {
     "name": "stdin",
     "output_type": "stream",
     "text": [
      " -2\n",
      " -4\n",
      " -3\n",
      " -4\n",
      " -1\n",
      " 1\n"
     ]
    },
    {
     "name": "stdout",
     "output_type": "stream",
     "text": [
      "11.484184\n"
     ]
    }
   ],
   "source": [
    "def distance(x1,y1,x2,y2):\n",
    "    d = ((x2 - x1) ** 2 + (y2 - y1) ** 2) ** 0.5\n",
    "    return d\n",
    "x1 = int(input())\n",
    "y1 = int(input())\n",
    "x2 = int(input())\n",
    "y2 = int(input())\n",
    "x3 = int(input())\n",
    "y3 = int(input())\n",
    "perim = distance(x1,y1,x2,y2) + distance(x1,y1,x3,y3) + distance(x3,y3,x2,y2)\n",
    "print(round(perim, 6))"
   ]
  },
  {
   "cell_type": "markdown",
   "metadata": {},
   "source": [
    "## **D. Исключающее ИЛИ**"
   ]
  },
  {
   "cell_type": "markdown",
   "metadata": {},
   "source": [
    "Напишите функцию xor(x, y), реализующую функцию \"Исключающее ИЛИ\" двух логических переменных x и y.\n",
    "Функция xor должна возвращать True, если ровно один из ее аргументов x или y, но не оба одновременно равны True.\\\n",
    "*Формат ввода*\\\n",
    "Вводится 2 числа - x и y (x и y равны 0 или 1, 0 соответствует значению False, 1 соответствует значению True).\\\n",
    "*Формат вывода*\\\n",
    "Необходимо вывести 0 или 1 - значение функции от x и y. "
   ]
  },
  {
   "cell_type": "code",
   "execution_count": 22,
   "metadata": {},
   "outputs": [
    {
     "name": "stdin",
     "output_type": "stream",
     "text": [
      " 0\n",
      " 2\n"
     ]
    },
    {
     "name": "stdout",
     "output_type": "stream",
     "text": [
      "1\n"
     ]
    }
   ],
   "source": [
    "def xor(x,y):\n",
    "    return(int((x or y) and not(x and y)))\n",
    "x = int(input())\n",
    "y = int(input())\n",
    "print(xor(x,y))"
   ]
  },
  {
   "cell_type": "markdown",
   "metadata": {},
   "source": [
    "## **E. Принадлежит ли точка квадрату - 1**"
   ]
  },
  {
   "cell_type": "markdown",
   "metadata": {},
   "source": [
    "Даны два действительных числа x и y. Проверьте, принадлежит ли точка с координатами (x,y) заштрихованному квадрату (включая его границу). Если точка принадлежит квадрату, выведите слово YES, иначе выведите слово NO. На рисунке сетка проведена с шагом 1.\\\n",
    "Решение должно содержать функцию IsPointInSquare(x, y), возвращающую True, если точка принадлежит квадрату и False, если не принадлежит. Основная программа должна считать координаты точки, вызвать функцию IsPointInSquare и в зависимости от возвращенного значения вывести на экран необходимое сообщение. Функция IsPointInSquare не должна содержать инструкцию if.\\\n",
    "*Формат ввода*\\\n",
    "Вводятся два действительных числа.\\\n",
    "*Формат вывода*\\\n",
    "Выведите ответ на задачу. "
   ]
  },
  {
   "cell_type": "code",
   "execution_count": 25,
   "metadata": {},
   "outputs": [
    {
     "name": "stdin",
     "output_type": "stream",
     "text": [
      " 0.5\n",
      " 0.5\n"
     ]
    },
    {
     "name": "stdout",
     "output_type": "stream",
     "text": [
      "YES\n"
     ]
    }
   ],
   "source": [
    "def IsPointInSquare(x,y):\n",
    "    res = -1 <= x <= 1 and -1 <= y <= 1\n",
    "    return res\n",
    "x = float(input())\n",
    "y = float(input())\n",
    "if IsPointInSquare(x,y):\n",
    "    print('YES')\n",
    "else:\n",
    "    print('NO')"
   ]
  },
  {
   "cell_type": "markdown",
   "metadata": {},
   "source": [
    "## **F. Принадлежит ли точка квадрату - 2**"
   ]
  },
  {
   "cell_type": "markdown",
   "metadata": {},
   "source": [
    "Даны два действительных числа x и y. Проверьте, принадлежит ли точка с координатами (x,y) заштрихованному квадрату (включая его границу). Если точка принадлежит квадрату, выведите слово YES, иначе выведите слово NO. На рисунке сетка проведена с шагом 1.\\\n",
    "Решение должно содержать функцию IsPointInSquare(x, y), возвращающую True, если точка принадлежит квадрату и False, если не принадлежит. Основная программа должна считать координаты точки, вызвать функцию IsPointInSquare и в зависимости от возвращенного значения вывести на экран необходимое сообщение.\\\n",
    "Функция IsPointInSquare не должна содержать инструкцию if.\\\n",
    "*Формат ввода*\\\n",
    "Вводятся два действительных числа.\\\n",
    "*Формат вывода*\\\n",
    "Выведите ответ на задачу. "
   ]
  },
  {
   "cell_type": "code",
   "execution_count": 29,
   "metadata": {},
   "outputs": [
    {
     "name": "stdin",
     "output_type": "stream",
     "text": [
      " 0.5\n",
      " 0.5\n"
     ]
    },
    {
     "name": "stdout",
     "output_type": "stream",
     "text": [
      "YES\n"
     ]
    }
   ],
   "source": [
    "def IsPointInSquare(x,y):\n",
    "    res = y <= 1 - x and y <= x + 1 and y >= -1 - x and y >= x - 1\n",
    "    return res\n",
    "x = float(input())\n",
    "y = float(input())\n",
    "if IsPointInSquare(x,y):\n",
    "    print('YES')\n",
    "else:\n",
    "    print('NO')"
   ]
  },
  {
   "cell_type": "markdown",
   "metadata": {},
   "source": [
    "## **G. Принадлежит ли точка кругу**"
   ]
  },
  {
   "cell_type": "markdown",
   "metadata": {},
   "source": [
    "Даны пять действительных чисел: x, y, xc, yc, r. Проверьте, принадлежит ли точка (x,y) кругу с центром (xc,yc) и радиусом r. Если точка принадлежит кругу, выведите слово YES, иначе выведите слово NO.\\\n",
    "Решение должно содержать функцию IsPointInCircle(x, y, xc, yc, r), возвращающую True, если точка принадлежит кругу и False, если не принадлежит. Основная программа должна считать координаты точки, вызвать функцию IsPointInCircle и в зависимости от возвращенного значения вывести на экран необходимое сообщение.\\\n",
    "Функция IsPointInCircle не должна содержать инструкцию if.\\\n",
    "*Формат ввода*\\\n",
    "Вводится пять действительных чисел.\\\n",
    "*Формат вывода*\\\n",
    "Выведите ответ на задачу."
   ]
  },
  {
   "cell_type": "code",
   "execution_count": 34,
   "metadata": {},
   "outputs": [
    {
     "name": "stdin",
     "output_type": "stream",
     "text": [
      " 0\n",
      " 0\n",
      " 1\n",
      " 0\n",
      " 1\n"
     ]
    },
    {
     "name": "stdout",
     "output_type": "stream",
     "text": [
      "YES\n"
     ]
    }
   ],
   "source": [
    "def IsPointInCircle(x, y, xc, yc, r):\n",
    "    res = (x - xc) ** 2 + (y - yc) ** 2 <= r ** 2\n",
    "    return res\n",
    "x = float(input())\n",
    "y = float(input())\n",
    "xc = float(input())\n",
    "yc = float(input())\n",
    "r = float(input())\n",
    "\n",
    "if IsPointInCircle(x, y, xc, yc, r):\n",
    "    print('YES')\n",
    "else:\n",
    "    print('NO')"
   ]
  },
  {
   "cell_type": "markdown",
   "metadata": {},
   "source": [
    "## **H. Принадлежит ли точка области**"
   ]
  },
  {
   "cell_type": "markdown",
   "metadata": {},
   "source": [
    "Проверьте, принадлежит ли точка данной закрашенной области:\\\n",
    "Если точка принадлежит области (область включает границы), выведите слово YES, иначе выведите слово NO.\\\n",
    "Решение должно содержать функцию IsPointInArea(x, y), возвращающую True, если точка принадлежит области и False, если не принадлежит. Основная программа должна считать координаты точки, вызвать функцию IsPointInArea и в зависимости от возвращенного значения вывести на экран необходимое сообщение.\\\n",
    "Функция IsPointInArea не должна содержать инструкцию if.\n",
    "*Формат ввода*\\\n",
    "Вводится два действительных числа.\\\n",
    "*Формат вывода*\\\n",
    "Выведите ответ на задачу. "
   ]
  },
  {
   "cell_type": "code",
   "execution_count": 41,
   "metadata": {},
   "outputs": [
    {
     "name": "stdin",
     "output_type": "stream",
     "text": [
      " -4\n",
      " -2\n"
     ]
    },
    {
     "name": "stdout",
     "output_type": "stream",
     "text": [
      "NO\n"
     ]
    }
   ],
   "source": [
    "def IsPointInArea(x, y):\n",
    "    crcl_ins = (x + 1) ** 2 + (y - 1) ** 2 < 4\n",
    "    crcl_bor = (x + 1) ** 2 + (y - 1) ** 2 == 4\n",
    "    lns_up = y >= -x and y >= 2 * x + 2\n",
    "    lns_bot = y <= -x and y <= 2 * x + 2\n",
    "    res = (lns_up and (crcl_ins or crcl_bor)) or (lns_bot and not crcl_ins)\n",
    "    return res\n",
    "\n",
    "x = float(input())\n",
    "y = float(input())\n",
    "if IsPointInArea(x, y):\n",
    "    print('YES')\n",
    "else:\n",
    "    print('NO')"
   ]
  },
  {
   "cell_type": "markdown",
   "metadata": {},
   "source": [
    "## **I. Минимальный делитель числа**"
   ]
  },
  {
   "cell_type": "markdown",
   "metadata": {},
   "source": [
    "Дано натуральное число n>1. Выведите его наименьший делитель, отличный от 1. Решение оформите в виде функции MinDivisor(n). Алгоритм должен иметь сложность O(sqrt(n)). Указание. Если у числа n нет делителя не превосходящего sqrt(n), то число n — простое и ответом будет само число n.\\\n",
    "*Формат ввода*\\\n",
    "Вводится натуральное число.\\\n",
    "*Формат вывода*\\\n",
    "Выведите ответ на задачу."
   ]
  },
  {
   "cell_type": "code",
   "execution_count": 50,
   "metadata": {},
   "outputs": [
    {
     "name": "stdin",
     "output_type": "stream",
     "text": [
      " 2\n"
     ]
    },
    {
     "name": "stdout",
     "output_type": "stream",
     "text": [
      "2\n"
     ]
    }
   ],
   "source": [
    "def MinDivisor(n):\n",
    "    for i in range(2, int(n ** 0.5) + 1):\n",
    "        if n % i == 0:\n",
    "            return i\n",
    "            break\n",
    "    else:\n",
    "        return n\n",
    "    \n",
    "num = int(input())\n",
    "print(MinDivisor(num))"
   ]
  },
  {
   "cell_type": "markdown",
   "metadata": {},
   "source": [
    "## **J. Проверка числа на простоту**"
   ]
  },
  {
   "cell_type": "markdown",
   "metadata": {},
   "source": [
    "Дано натуральное число n>1. Проверьте, является ли оно простым. Программа должна вывести слово YES, если число простое и NO, если число составное.\\\n",
    "Решение оформите в виде функции IsPrime(n), которая возвращает True для простых чисел и False для составных чисел. Решение должно иметь сложность O(sqrt(n)).\\\n",
    "*Формат ввода*\\\n",
    "Вводится натуральное число.\\\n",
    "*Формат вывода*\\\n",
    "Выведите ответ на задачу. "
   ]
  },
  {
   "cell_type": "code",
   "execution_count": 59,
   "metadata": {},
   "outputs": [
    {
     "name": "stdin",
     "output_type": "stream",
     "text": [
      " 11\n"
     ]
    },
    {
     "name": "stdout",
     "output_type": "stream",
     "text": [
      "YES\n"
     ]
    }
   ],
   "source": [
    "def IsPrime(n):\n",
    "    for i in range(2, int(n ** 0.5) + 1):\n",
    "        if n % i == 0:\n",
    "            return False\n",
    "            break\n",
    "    else:\n",
    "        return True\n",
    "\n",
    "num = int(input())\n",
    "if IsPrime(num):\n",
    "    print('YES')\n",
    "else:\n",
    "    print('NO')"
   ]
  },
  {
   "cell_type": "markdown",
   "metadata": {},
   "source": [
    "## **K. Возведение в степень**"
   ]
  },
  {
   "cell_type": "markdown",
   "metadata": {},
   "source": [
    "Дано действительное положительное число a и целое неотрицательное число n. Вычислите $a^n$ не используя циклы и стандартную функцию pow, а используя рекуррентное соотношение $a^n=a*a^(n-1)$.\\\n",
    "Решение оформите в виде функции power(a, n).\\\n",
    "*Формат ввода*\\\n",
    "Вводятся действительное положительное число a и целое неотрицательное число n.\\\n",
    "*Формат вывода*\\\n",
    "Выведите ответ на задачу. "
   ]
  },
  {
   "cell_type": "code",
   "execution_count": 63,
   "metadata": {},
   "outputs": [
    {
     "name": "stdin",
     "output_type": "stream",
     "text": [
      " 2.5\n",
      " 3\n"
     ]
    },
    {
     "name": "stdout",
     "output_type": "stream",
     "text": [
      "15.625\n"
     ]
    }
   ],
   "source": [
    "def power(a, n):\n",
    "    if n == 0:\n",
    "        return 1\n",
    "    else:\n",
    "        return a * power(a, n-1)\n",
    "a = float(input())\n",
    "n = int(input())\n",
    "\n",
    "print(power(a, n))"
   ]
  },
  {
   "cell_type": "markdown",
   "metadata": {},
   "source": [
    "## **L. Отрицательная степень**"
   ]
  },
  {
   "cell_type": "markdown",
   "metadata": {},
   "source": [
    "Дано действительное положительное число a и целоe число n. Вычислите $a^n$. Решение оформите в виде функции power(a, n). Стандартной функцией возведения в степерь пользоваться нельзя.\\\n",
    "*Формат ввода*\\\n",
    "Вводится действительное положительное число a и целоe число n.\\\n",
    "*Формат вывода*\\\n",
    "Выведите ответ на задачу. "
   ]
  },
  {
   "cell_type": "code",
   "execution_count": 66,
   "metadata": {},
   "outputs": [
    {
     "name": "stdin",
     "output_type": "stream",
     "text": [
      " 3\n",
      " -1\n"
     ]
    },
    {
     "name": "stdout",
     "output_type": "stream",
     "text": [
      "0.3333333333333333\n"
     ]
    }
   ],
   "source": [
    "def power(a, n):\n",
    "    return a ** n\n",
    "a = float(input())\n",
    "n = int(input())\n",
    "\n",
    "print(power(a, n))"
   ]
  },
  {
   "cell_type": "markdown",
   "metadata": {},
   "source": [
    "## **M. Сложение без сложения**"
   ]
  },
  {
   "cell_type": "markdown",
   "metadata": {},
   "source": [
    "Напишите рекурсивную функцию sum(a, b), возвращающую сумму двух целых неотрицательных чисел. Из всех арифметических операций допускаются только +1 и -1. Также нельзя использовать циклы.\\\n",
    "*Формат ввода*\\\n",
    "Вводятся два целых числа.\\\n",
    "*Формат вывода*\\\n",
    "Выведите ответ на задачу. "
   ]
  },
  {
   "cell_type": "code",
   "execution_count": 69,
   "metadata": {},
   "outputs": [
    {
     "name": "stdin",
     "output_type": "stream",
     "text": [
      " 5\n",
      " 8\n"
     ]
    },
    {
     "name": "stdout",
     "output_type": "stream",
     "text": [
      "13\n"
     ]
    }
   ],
   "source": [
    "def sum_(a,b):\n",
    "    if a == 0:\n",
    "        return b\n",
    "    elif a == 1:\n",
    "        return b + 1\n",
    "    elif b == 0:\n",
    "        return a\n",
    "    elif b == 1:\n",
    "        return a + 1\n",
    "    else:\n",
    "        return sum_(a - 1, b - 1) + 1 + 1\n",
    "\n",
    "a = int(input())\n",
    "b = int(input())\n",
    "\n",
    "print(sum_(a,b))"
   ]
  },
  {
   "cell_type": "markdown",
   "metadata": {},
   "source": [
    "## **N. Быстрое возведение в степень**"
   ]
  },
  {
   "cell_type": "markdown",
   "metadata": {},
   "source": [
    "Возводить в степень можно гораздо быстрее, чем за n умножений! Для этого нужно воспользоваться следующими рекуррентными соотношениями: $a^n=(a^2)^{n/2}$ при четном n, $a^n=a⋅ a^{n-1}$ при нечетном n. Реализуйте алгоритм быстрого возведения в степень. Если вы все сделаете правильно, то сложность вашего алгоритма будет $O(log(n))$.\n",
    "Формат ввода\n",
    "\n",
    "Вводится действительное число a и целое число n.\n",
    "Формат вывода\n",
    "\n",
    "Выведите ответ на задачу. "
   ]
  },
  {
   "cell_type": "code",
   "execution_count": 78,
   "metadata": {},
   "outputs": [
    {
     "name": "stdin",
     "output_type": "stream",
     "text": [
      " 3\n",
      " 6\n"
     ]
    },
    {
     "name": "stdout",
     "output_type": "stream",
     "text": [
      "729.0\n"
     ]
    }
   ],
   "source": [
    "def power(a, n):\n",
    "    if n == 0:\n",
    "        return 1\n",
    "    elif n % 2 == 0:\n",
    "        return power((a ** 2), (n//2))\n",
    "    else:\n",
    "        return a * power(a, n - 1)\n",
    "\n",
    "a = float(input())\n",
    "n = int(input())\n",
    "\n",
    "print(power(a, n))"
   ]
  },
  {
   "cell_type": "markdown",
   "metadata": {},
   "source": [
    "## **O. Алгоритм Евклида**"
   ]
  },
  {
   "cell_type": "markdown",
   "metadata": {},
   "source": [
    "Для быстрого вычисления наибольшего общего делителя двух чисел используют алгоритм Евклида. Он построен на следующем соотношении: НОД(a,b) = НОД(b,a mod a).\\\n",
    "Реализуйте рекурсивный алгоритм Евклида в виде функции gcd(a, b).\\\n",
    "*Формат ввода*\\\n",
    "Вводится два целых числа.\\\n",
    "*Формат вывода*\\\n",
    "Выведите ответ на задачу. "
   ]
  },
  {
   "cell_type": "code",
   "execution_count": 84,
   "metadata": {},
   "outputs": [
    {
     "name": "stdin",
     "output_type": "stream",
     "text": [
      " 64\n",
      " 48\n"
     ]
    },
    {
     "name": "stdout",
     "output_type": "stream",
     "text": [
      "16\n"
     ]
    }
   ],
   "source": [
    "def gcd(a, b):\n",
    "    if a < b:\n",
    "        a, b = b, a\n",
    "    if a % b == 0:\n",
    "        return b\n",
    "    else:\n",
    "        return gcd(b, a % b)\n",
    "\n",
    "a = int(input())\n",
    "b = int(input())\n",
    "\n",
    "print(gcd(a, b))"
   ]
  },
  {
   "cell_type": "markdown",
   "metadata": {},
   "source": [
    "## **P. Сократите дробь**"
   ]
  },
  {
   "cell_type": "markdown",
   "metadata": {},
   "source": [
    "Даны два натуральных числа n и m. Сократите дробь $\\frac{n}{m}$, то есть выведите два других числа p и q таких, что $\\frac{n}{m}=\\frac{p}{q}$ и дробь $\\frac{p}{q}$ — несократимая.\\\n",
    "Решение оформите в виде функции ReduceFraction(n, m), получающая значения n и m и возвращающей кортеж из двух чисел.\\\n",
    "*Формат ввода*\\\n",
    "Вводятся два натуральных числа.\\\n",
    "*Формат вывода*\\\n",
    "Выведите ответ на задачу. "
   ]
  },
  {
   "cell_type": "code",
   "execution_count": 89,
   "metadata": {},
   "outputs": [
    {
     "name": "stdin",
     "output_type": "stream",
     "text": [
      " 30\n",
      " 6\n"
     ]
    },
    {
     "name": "stdout",
     "output_type": "stream",
     "text": [
      "5 1\n"
     ]
    }
   ],
   "source": [
    "def ReduceFraction(n, m):\n",
    "    def gcd(a, b):\n",
    "        if a < b:\n",
    "            a, b = b, a\n",
    "        if a % b == 0:\n",
    "            return b\n",
    "        else:\n",
    "            return gcd(b, a % b)\n",
    "    \n",
    "    p = n // gcd(n, m)\n",
    "    q = m // gcd(n, m)\n",
    "    \n",
    "    return p, q\n",
    "\n",
    "n = int(input())\n",
    "m = int(input())\n",
    "\n",
    "print(*ReduceFraction(n, m))"
   ]
  },
  {
   "cell_type": "markdown",
   "metadata": {},
   "source": [
    "## **Q. Числа Фибоначчи**"
   ]
  },
  {
   "cell_type": "markdown",
   "metadata": {},
   "source": [
    "Напишите функцию phib(n), которая по данному целому неотрицательному n возвращает n-e число Фибоначчи. В этой задаче нельзя использовать циклы - используйте рекурсию.\\\n",
    "*Формат ввода*\\\n",
    "Вводится целое число.\\\n",
    "*Формат вывода*\\\n",
    "Выведите ответ на задачу. "
   ]
  },
  {
   "cell_type": "code",
   "execution_count": 94,
   "metadata": {},
   "outputs": [
    {
     "name": "stdin",
     "output_type": "stream",
     "text": [
      " 3\n"
     ]
    },
    {
     "name": "stdout",
     "output_type": "stream",
     "text": [
      "2\n"
     ]
    }
   ],
   "source": [
    "def phib(n):\n",
    "    if n in (1, 2):\n",
    "        return 1\n",
    "    else:\n",
    "        return phib(n-1) + phib(n-2)\n",
    "\n",
    "n = int(input())\n",
    "print(phib(n))"
   ]
  },
  {
   "cell_type": "markdown",
   "metadata": {},
   "source": [
    "## **R. Число сочетаний**"
   ]
  },
  {
   "cell_type": "markdown",
   "metadata": {},
   "source": [
    "По данным числам n и k (0≤ k≤ n) вычислите $С_n^k$. Для решения используйте рекуррентное соотношение $С_n^k=С_{n-1}^{k-1}+С_{n-1}^k$. Решение оформите в виде функции C(n, k).\\\n",
    "*Формат ввода*\\\n",
    "Вводятся целые числа n и k.\\\n",
    "*Формат вывода*\\\n",
    "Выведите ответ на задачу. "
   ]
  },
  {
   "cell_type": "code",
   "execution_count": 98,
   "metadata": {},
   "outputs": [
    {
     "name": "stdin",
     "output_type": "stream",
     "text": [
      " 4\n",
      " 1\n"
     ]
    },
    {
     "name": "stdout",
     "output_type": "stream",
     "text": [
      "4\n"
     ]
    }
   ],
   "source": [
    "def c(n, k):\n",
    "    if n == 0 or k == 0 or n == 1 or k == n:\n",
    "        return 1\n",
    "    else:\n",
    "        return c(n-1, k-1) + c(n-1, k)\n",
    "\n",
    "n = int(input())\n",
    "k = int(input())\n",
    "\n",
    "print(c(n, k))"
   ]
  },
  {
   "cell_type": "markdown",
   "metadata": {},
   "source": [
    "## **S. Сумма последовательности**"
   ]
  },
  {
   "cell_type": "markdown",
   "metadata": {},
   "source": [
    "Дана последовательность чисел, завершающаяся числом 0.\\\n",
    "*Формат ввода*\\\n",
    "Вводится последовательность целых чисел, оканчивающаяся числом 0 (само число 0 в последовательность не входит, а служит как признак ее окончания).\\\n",
    "*Формат вывода*\\\n",
    "Выведите ответ на задачу. "
   ]
  },
  {
   "cell_type": "code",
   "execution_count": 111,
   "metadata": {},
   "outputs": [
    {
     "name": "stdin",
     "output_type": "stream",
     "text": [
      " 1\n",
      " 1\n",
      " 1\n",
      " 1\n",
      " 1\n",
      " 1\n",
      " 1\n",
      " 1\n",
      " 1\n",
      " 0\n"
     ]
    },
    {
     "name": "stdout",
     "output_type": "stream",
     "text": [
      "9\n"
     ]
    }
   ],
   "source": [
    "n = int(input())\n",
    "res = 0\n",
    "while n != 0:\n",
    "    res += n\n",
    "    n = int(input())\n",
    "else:\n",
    "    print(res)"
   ]
  },
  {
   "cell_type": "code",
   "execution_count": 120,
   "metadata": {},
   "outputs": [
    {
     "name": "stdin",
     "output_type": "stream",
     "text": [
      " 1\n",
      " 0\n"
     ]
    },
    {
     "name": "stdout",
     "output_type": "stream",
     "text": [
      "0\n"
     ]
    }
   ],
   "source": [
    "def sumgen(n):\n",
    "    res = 0\n",
    "    while True:\n",
    "        res += n\n",
    "        yield res\n",
    "\n",
    "n = int(input())\n",
    "while n != 0:\n",
    "    next(sumgen(n))\n",
    "    n = int(input())\n",
    "else:\n",
    "    print(next(sumgen(n)))"
   ]
  },
  {
   "cell_type": "markdown",
   "metadata": {},
   "source": [
    "## **T. Разворот последовательности**"
   ]
  },
  {
   "cell_type": "markdown",
   "metadata": {},
   "source": [
    "Дана последовательность целых чисел, заканчивающаяся числом 0. Выведите эту последовательность в обратном порядке. При решении этой задачи нельзя пользоваться массивами и прочими динамическими структурами данных. Рекурсия вам поможет.\\\n",
    "*Формат ввода*\\\n",
    "Вводится последовательность целых чисел, оканчивающаяся числом 0.\\\n",
    "*Формат вывода*\\\n",
    "Выведите ответ на задачу. "
   ]
  },
  {
   "cell_type": "code",
   "execution_count": 136,
   "metadata": {},
   "outputs": [
    {
     "name": "stdin",
     "output_type": "stream",
     "text": [
      " 5\n",
      " 4\n",
      " 3\n",
      " 2\n",
      " 0\n"
     ]
    },
    {
     "name": "stdout",
     "output_type": "stream",
     "text": [
      "0\n",
      "2\n",
      "3\n",
      "4\n",
      "5\n"
     ]
    }
   ],
   "source": [
    "def trnarnd():\n",
    "    num = int(input())\n",
    "    if num == 0:\n",
    "        print(0)\n",
    "    else:\n",
    "        trnarnd()\n",
    "        print(num)\n",
    "\n",
    "trnarnd()"
   ]
  },
  {
   "cell_type": "markdown",
   "metadata": {},
   "source": [
    "## **X. Только квадраты**"
   ]
  },
  {
   "cell_type": "markdown",
   "metadata": {},
   "source": [
    "Напишите программу, которая выбирает их полученной последовательности квадраты целых чисел выводит их в обратном порядке. Использовать массив для хранения последовательности не разрешается.\\\n",
    "*Формат ввода*\\\n",
    "Во входных строках записаны целые числа, по одному в каждой строке. В последней строке записано число 0.\\\n",
    "*Формат вывода*\\\n",
    "Программа должна вывести элементы полученной последовательности, которые представляют собой квадраты целых чисел, в обратном порядке в одну строчку, разделив их пробелами. Если таких нет, программа должна вывести число 0. "
   ]
  },
  {
   "cell_type": "code",
   "execution_count": 177,
   "metadata": {},
   "outputs": [
    {
     "name": "stdin",
     "output_type": "stream",
     "text": [
      " 1\n",
      " 2\n",
      " 3\n",
      " 4\n",
      " 0\n"
     ]
    },
    {
     "name": "stdout",
     "output_type": "stream",
     "text": [
      "4 1 "
     ]
    }
   ],
   "source": [
    "nsq = 0\n",
    "\n",
    "def trnarnd_sq():\n",
    "    num = int(input())\n",
    "    global nsq \n",
    "    if num != 0 and num ** 0.5 == int(num ** 0.5):\n",
    "        nsq += 1\n",
    "        trnarnd_sq()\n",
    "        print(num, end = ' ')\n",
    "    elif num == 0:\n",
    "        if nsq == 0:\n",
    "            print(0)\n",
    "    else:\n",
    "        trnarnd_sq()\n",
    "        \n",
    "trnarnd_sq()"
   ]
  },
  {
   "cell_type": "markdown",
   "metadata": {},
   "source": [
    "## **U. Ханойские башни**"
   ]
  },
  {
   "cell_type": "markdown",
   "metadata": {},
   "source": [
    "Головоломка “Ханойские башни” состоит из трех стержней, пронумерованных числами 1, 2, 3. На стержень 1 надета пирамидка из n дисков различного диаметра в порядке возрастания диаметра. Диски можно перекладывать с одного стержня на другой по одному, при этом диск нельзя класть на диск меньшего диаметра. Необходимо переложить всю пирамидку со стержня 1 на стержень 3 за минимальное число перекладываний.\\\n",
    "Напишите программу, которая решает головоломку; для данного числа дисков n печатает последовательность перекладываний в формате a b c, где a — номер перекладываемого диска, b — номер стержня с которого снимается данный диск, c — номер стержня на который надевается данный диск.\\\n",
    "Например, строка 1 2 3 означает перемещение диска номер 1 со стержня 2 на стержень 3. В одной строке печатается одна команда. Диски пронумерованы числами от 1 до n в порядке возрастания диаметров.\\\n",
    "Программа должна вывести минимальный (по количеству произведенных операций) способ перекладывания пирамидки из данного числа дисков.\\\n",
    "Указание: подумайте, как переложить пирамидку из одного диска? Из двух дисков? Из трех дисков? Из четырех дисков? Пусть мы научились перекладывать пирамидку из n дисков с произвольного стержня на любой другой, как переложить пирамидку из n+1 диска, если можно пользоваться решением для n дисков.\\\n",
    "Напишите функцию move (n, x, y), которая печатает последовательнось перекладываний дисков для перемещения пирамидки высоты n со стержня номер x на стержень номер y.\\\n",
    "*Формат ввода*\\\n",
    "Вводится натуральное число - количество дисков.\\\n",
    "*Формат вывода*\\\n",
    "Выведите ответ на задачу. "
   ]
  },
  {
   "cell_type": "code",
   "execution_count": 183,
   "metadata": {},
   "outputs": [],
   "source": [
    "def move(n, x, y):\n",
    "    if 3 not in (x, y):\n",
    "        z = 3\n",
    "    elif 2 not in (x, y):\n",
    "        z = 2\n",
    "    else:\n",
    "        z = 1\n",
    "        \n",
    "    if n == 1:\n",
    "        print(1, x, y)\n",
    "    else:\n",
    "        move(n-1, x, z)\n",
    "        print(n, x, y)\n",
    "        move(n-1, z, y)"
   ]
  },
  {
   "cell_type": "code",
   "execution_count": 186,
   "metadata": {},
   "outputs": [
    {
     "name": "stdout",
     "output_type": "stream",
     "text": [
      "1 1 2\n",
      "2 1 3\n",
      "1 2 3\n"
     ]
    }
   ],
   "source": [
    "move(2, 1, 3)"
   ]
  },
  {
   "cell_type": "code",
   "execution_count": 190,
   "metadata": {},
   "outputs": [
    {
     "name": "stdin",
     "output_type": "stream",
     "text": [
      " 4\n"
     ]
    },
    {
     "name": "stdout",
     "output_type": "stream",
     "text": [
      "1 1 2\n",
      "2 1 3\n",
      "1 2 3\n",
      "3 1 2\n",
      "1 3 1\n",
      "2 3 2\n",
      "1 1 2\n",
      "4 1 3\n",
      "1 2 3\n",
      "2 2 1\n",
      "1 3 1\n",
      "3 2 3\n",
      "1 1 2\n",
      "2 1 3\n",
      "1 2 3\n"
     ]
    }
   ],
   "source": [
    "num = int(input())\n",
    "move(num, 1, 3)"
   ]
  },
  {
   "cell_type": "markdown",
   "metadata": {},
   "source": [
    "## **W. Сумма кубов**"
   ]
  },
  {
   "cell_type": "markdown",
   "metadata": {},
   "source": [
    "Напишите программу, которая представляет переданное натуральное число в виде суммы не более чем 7 кубов других натуральных чисел.\\\n",
    "*Формат ввода*\\\n",
    "Входная строка содержит целое число N , которое нужно представить в виде суммы кубов.\\\n",
    "*Формат вывода*\\\n",
    "Программа должна вывести любое разложение переданного ей числа в виде суммы не более чем 7 кубов других натуральных чисел. Если такое разложение невозможно, программа должна вывести число 0. "
   ]
  },
  {
   "cell_type": "code",
   "execution_count": 111,
   "metadata": {},
   "outputs": [],
   "source": [
    "def getallcubs (n, cubs=None):\n",
    "    if cubs == None:\n",
    "        cubs = []\n",
    "    if n == (int(n ** (1/3))) ** 3:\n",
    "        cubs.append(n)\n",
    "        return cubs\n",
    "    else:\n",
    "        cubs.append(int(n ** (1/3)) ** 3)\n",
    "        getallcubs(n - (int(n ** (1/3))) ** 3, cubs)\n",
    "        return cubs"
   ]
  },
  {
   "cell_type": "code",
   "execution_count": 8,
   "metadata": {},
   "outputs": [
    {
     "name": "stdin",
     "output_type": "stream",
     "text": [
      " 5\n"
     ]
    },
    {
     "name": "stdout",
     "output_type": "stream",
     "text": [
      "1 1 1 1 1\n"
     ]
    }
   ],
   "source": [
    "def nroot(n, root):\n",
    "    res = int(n ** (1/root))\n",
    "    return res + 1 if (res + 1) ** root == n else res\n",
    "\n",
    "def getallcubes (n):\n",
    "    maxroot = int(nroot(n, 3))\n",
    "    if n == maxroot ** 3:\n",
    "        return [maxroot]\n",
    "    elif maxroot == 1:\n",
    "        return [1] * n\n",
    "    else:\n",
    "        res = {1: [1] * n}\n",
    "        root = 2\n",
    "        while root <= maxroot:\n",
    "            cubes = [root] * (n // (root ** 3))\n",
    "            resid = n % (root ** 3)\n",
    "            if resid == 0:\n",
    "                res.update({root: cubes})\n",
    "            else:\n",
    "                for i in range(root-1, 0, -1):\n",
    "                    cubes = cubes + [i] * (resid // (i ** 3))\n",
    "                    resid = resid % (i ** 3) \n",
    "                    if resid == 0:\n",
    "                        res.update({str(root) + '_' + str(i): cubes})\n",
    "                        break\n",
    "            root += 1\n",
    "        \n",
    "        minlen = min(list(map(len, res.values())))\n",
    "        cubes_minlen = [k for k in res.keys() if len(res.get(k)) == minlen]\n",
    "        return res[cubes_minlen[0]]       \n",
    "\n",
    "num = int(input())\n",
    "res = [i ** 3 for i in getallcubes(num)]\n",
    "if len(res) < 8:\n",
    "    print(*res)\n",
    "else:\n",
    "    print(0)"
   ]
  },
  {
   "cell_type": "code",
   "execution_count": 3,
   "metadata": {},
   "outputs": [],
   "source": [
    "n = 41\n",
    "maxroot = int(nroot(n, 3))\n",
    "if n == maxroot ** 3:\n",
    "    print([n])\n",
    "elif maxroot == 1:\n",
    "    print([1] * n)\n",
    "else:\n",
    "    res = {1: [1] * n}\n",
    "    root = 2\n",
    "    while root <= maxroot:\n",
    "        cubes = [root] * (n // (root ** 3))\n",
    "        resid = n % (root ** 3)\n",
    "        if resid == 0:\n",
    "            res.update({root: cubes})\n",
    "        else:\n",
    "            for i in range(root-1, 0, -1):\n",
    "                cubes = cubes + [i] * (resid // (i ** 3))\n",
    "                resid = resid % (i ** 3) \n",
    "                if resid == 0:\n",
    "                    res.update({str(root) + '_' + str(i): cubes})\n",
    "                    break\n",
    "        root += 1   "
   ]
  },
  {
   "cell_type": "code",
   "execution_count": 4,
   "metadata": {},
   "outputs": [],
   "source": [
    "minlen = min(list(map(len, res.values())))"
   ]
  },
  {
   "cell_type": "code",
   "execution_count": 5,
   "metadata": {},
   "outputs": [],
   "source": [
    "cubes_minlen = [k for k in res.keys() if len(res.get(k)) == minlen]"
   ]
  },
  {
   "cell_type": "code",
   "execution_count": 6,
   "metadata": {},
   "outputs": [
    {
     "data": {
      "text/plain": [
       "[2, 2, 2, 2, 2, 1]"
      ]
     },
     "execution_count": 6,
     "metadata": {},
     "output_type": "execute_result"
    }
   ],
   "source": [
    "res[cubes_minlen[0]]"
   ]
  },
  {
   "cell_type": "markdown",
   "metadata": {},
   "source": [
    "## **V. Теорема Лагранжа**"
   ]
  },
  {
   "cell_type": "markdown",
   "metadata": {},
   "source": [
    "Теорема Лагранжа утверждает, что любое натуральное число можно представить в виде суммы четырех точных квадратов. По данному числу n найдите такое представление: напечатайте от 1 до 4 натуральных чисел, квадраты которых дают в сумме данное число.\\\n",
    "*Формат ввода*\\\n",
    "Программа получает на вход одно натуральное число n < 10000.\\\n",
    "*Формат вывода*\\\n",
    "Программа должна вывести от 1 до 4 натуральных чисел, квадраты которых дают в сумме данное число. "
   ]
  },
  {
   "cell_type": "code",
   "execution_count": 9,
   "metadata": {},
   "outputs": [
    {
     "name": "stdin",
     "output_type": "stream",
     "text": [
      " 1111111\n"
     ]
    },
    {
     "name": "stdout",
     "output_type": "stream",
     "text": [
      "609 609 607 30\n"
     ]
    }
   ],
   "source": [
    "def nroot(n, root):\n",
    "    res = int(n ** (1/root))\n",
    "    return res + 1 if (res + 1) ** root == n else res\n",
    "\n",
    "def getsqs (n):\n",
    "    maxroot = int(nroot(n, 2))\n",
    "    if n == maxroot ** 2:\n",
    "        return [maxroot]\n",
    "    elif maxroot == 1:\n",
    "        return [1] * n\n",
    "    else:\n",
    "        res = {1: [1] * n}\n",
    "        root = 2\n",
    "        while root <= maxroot:\n",
    "            sqs = [root] * (n // (root ** 2))\n",
    "            resid = n % (root ** 2)\n",
    "            if resid == 0:\n",
    "                res.update({root: sqs})\n",
    "            else:\n",
    "                for i in range(root-1, 0, -1):\n",
    "                    sqs = sqs + [i] * (resid // (i ** 2))\n",
    "                    resid = resid % (i ** 2) \n",
    "                    if resid == 0:\n",
    "                        res.update({str(root) + '_' + str(i): sqs})\n",
    "                        break\n",
    "            root += 1\n",
    "        \n",
    "        minlen = min(list(map(len, res.values())))\n",
    "        sqs_minlen = [k for k in res.keys() if len(res.get(k)) == minlen]\n",
    "        return res[sqs_minlen[0]]       \n",
    "\n",
    "num = int(input())\n",
    "res = getsqs(num)\n",
    "print(*res)"
   ]
  }
 ],
 "metadata": {
  "kernelspec": {
   "display_name": "Python 3 (ipykernel)",
   "language": "python",
   "name": "python3"
  },
  "language_info": {
   "codemirror_mode": {
    "name": "ipython",
    "version": 3
   },
   "file_extension": ".py",
   "mimetype": "text/x-python",
   "name": "python",
   "nbconvert_exporter": "python",
   "pygments_lexer": "ipython3",
   "version": "3.10.1"
  }
 },
 "nbformat": 4,
 "nbformat_minor": 4
}
